{
  "nbformat": 4,
  "nbformat_minor": 0,
  "metadata": {
    "colab": {
      "name": "LSTM_CoViD19WorryDataset.ipynb",
      "provenance": [],
      "collapsed_sections": []
    },
    "kernelspec": {
      "name": "python3",
      "display_name": "Python 3"
    },
    "accelerator": "GPU"
  },
  "cells": [
    {
      "cell_type": "code",
      "metadata": {
        "id": "NCUN6uN7QR0m",
        "colab_type": "code",
        "colab": {}
      },
      "source": [
        "url = 'https://raw.githubusercontent.com/dranzerblaze/covid19worry/master/files_clean/data_incl_demographics.csv'"
      ],
      "execution_count": null,
      "outputs": []
    },
    {
      "cell_type": "code",
      "metadata": {
        "id": "QSWLmNNDQdsI",
        "colab_type": "code",
        "colab": {}
      },
      "source": [
        "import pandas as pd\n",
        "import numpy as np"
      ],
      "execution_count": null,
      "outputs": []
    },
    {
      "cell_type": "code",
      "metadata": {
        "id": "RT1p6juXQgV_",
        "colab_type": "code",
        "colab": {}
      },
      "source": [
        "df = pd.read_csv(url)"
      ],
      "execution_count": null,
      "outputs": []
    },
    {
      "cell_type": "code",
      "metadata": {
        "id": "0CBKHfg1QijH",
        "colab_type": "code",
        "colab": {
          "base_uri": "https://localhost:8080/",
          "height": 632
        },
        "outputId": "035ed1db-d6a1-4acd-ecbb-5faa0ad49ebe"
      },
      "source": [
        "df.head()"
      ],
      "execution_count": null,
      "outputs": [
        {
          "output_type": "execute_result",
          "data": {
            "text/html": [
              "<div>\n",
              "<style scoped>\n",
              "    .dataframe tbody tr th:only-of-type {\n",
              "        vertical-align: middle;\n",
              "    }\n",
              "\n",
              "    .dataframe tbody tr th {\n",
              "        vertical-align: top;\n",
              "    }\n",
              "\n",
              "    .dataframe thead th {\n",
              "        text-align: right;\n",
              "    }\n",
              "</style>\n",
              "<table border=\"1\" class=\"dataframe\">\n",
              "  <thead>\n",
              "    <tr style=\"text-align: right;\">\n",
              "      <th></th>\n",
              "      <th>Unnamed: 0</th>\n",
              "      <th>V1</th>\n",
              "      <th>worry</th>\n",
              "      <th>chosen_emotion</th>\n",
              "      <th>anger</th>\n",
              "      <th>disgust</th>\n",
              "      <th>fear</th>\n",
              "      <th>anxiety</th>\n",
              "      <th>sadness</th>\n",
              "      <th>happiness</th>\n",
              "      <th>relaxation</th>\n",
              "      <th>desire</th>\n",
              "      <th>text_long</th>\n",
              "      <th>timing_textlong_firstclick</th>\n",
              "      <th>timing_textlong_lastclick</th>\n",
              "      <th>timing_textlong_submit</th>\n",
              "      <th>timing_textlong_nclicks</th>\n",
              "      <th>text_short</th>\n",
              "      <th>timing_textshort_firstclick</th>\n",
              "      <th>timing_textshort_lastclick</th>\n",
              "      <th>timing_textshort_submit</th>\n",
              "      <th>timing_textshort_nclicks</th>\n",
              "      <th>self_rating_general</th>\n",
              "      <th>self_rating_short</th>\n",
              "      <th>self_rating_long</th>\n",
              "      <th>twitter_general_often</th>\n",
              "      <th>twitter_tweet_often</th>\n",
              "      <th>twitter_participate_often</th>\n",
              "      <th>eng_native</th>\n",
              "      <th>ntok_long</th>\n",
              "      <th>nchar_long</th>\n",
              "      <th>ntok_short</th>\n",
              "      <th>nchar_short</th>\n",
              "      <th>cld_lang_long</th>\n",
              "      <th>cld_lang_short</th>\n",
              "      <th>id</th>\n",
              "      <th>n_punct</th>\n",
              "      <th>prop_punct</th>\n",
              "      <th>age</th>\n",
              "      <th>Country of Birth</th>\n",
              "      <th>Current Country of Residence</th>\n",
              "      <th>Employment Status</th>\n",
              "      <th>First Language</th>\n",
              "      <th>Nationality</th>\n",
              "      <th>Sex</th>\n",
              "      <th>Social-Media</th>\n",
              "      <th>Student Status</th>\n",
              "    </tr>\n",
              "  </thead>\n",
              "  <tbody>\n",
              "    <tr>\n",
              "      <th>0</th>\n",
              "      <td>1</td>\n",
              "      <td>1</td>\n",
              "      <td>3</td>\n",
              "      <td>Sadness</td>\n",
              "      <td>5</td>\n",
              "      <td>5</td>\n",
              "      <td>3</td>\n",
              "      <td>7</td>\n",
              "      <td>7</td>\n",
              "      <td>2</td>\n",
              "      <td>4</td>\n",
              "      <td>5</td>\n",
              "      <td>It is less an much an issue of how it affects ...</td>\n",
              "      <td>4.340</td>\n",
              "      <td>150.638</td>\n",
              "      <td>202.320</td>\n",
              "      <td>12</td>\n",
              "      <td>It is very easy! Stay inside so you are not sp...</td>\n",
              "      <td>5.510</td>\n",
              "      <td>5.510</td>\n",
              "      <td>61.123</td>\n",
              "      <td>1</td>\n",
              "      <td>7</td>\n",
              "      <td>7</td>\n",
              "      <td>7</td>\n",
              "      <td>7</td>\n",
              "      <td>1</td>\n",
              "      <td>1</td>\n",
              "      <td>Yes</td>\n",
              "      <td>110</td>\n",
              "      <td>592</td>\n",
              "      <td>40</td>\n",
              "      <td>183</td>\n",
              "      <td>en</td>\n",
              "      <td>en</td>\n",
              "      <td>1815</td>\n",
              "      <td>9</td>\n",
              "      <td>0.02</td>\n",
              "      <td>NaN</td>\n",
              "      <td>NaN</td>\n",
              "      <td>NaN</td>\n",
              "      <td>NaN</td>\n",
              "      <td>NaN</td>\n",
              "      <td>NaN</td>\n",
              "      <td>NaN</td>\n",
              "      <td>NaN</td>\n",
              "      <td>NaN</td>\n",
              "    </tr>\n",
              "    <tr>\n",
              "      <th>1</th>\n",
              "      <td>2</td>\n",
              "      <td>2</td>\n",
              "      <td>8</td>\n",
              "      <td>Anxiety</td>\n",
              "      <td>6</td>\n",
              "      <td>7</td>\n",
              "      <td>7</td>\n",
              "      <td>8</td>\n",
              "      <td>6</td>\n",
              "      <td>4</td>\n",
              "      <td>3</td>\n",
              "      <td>1</td>\n",
              "      <td>I am concerned that the true impact of the cur...</td>\n",
              "      <td>3.924</td>\n",
              "      <td>615.838</td>\n",
              "      <td>621.392</td>\n",
              "      <td>24</td>\n",
              "      <td>Things are difficult now, but we must all pull...</td>\n",
              "      <td>76.067</td>\n",
              "      <td>76.067</td>\n",
              "      <td>78.729</td>\n",
              "      <td>1</td>\n",
              "      <td>9</td>\n",
              "      <td>4</td>\n",
              "      <td>8</td>\n",
              "      <td>6</td>\n",
              "      <td>3</td>\n",
              "      <td>4</td>\n",
              "      <td>Yes</td>\n",
              "      <td>257</td>\n",
              "      <td>1424</td>\n",
              "      <td>43</td>\n",
              "      <td>221</td>\n",
              "      <td>en</td>\n",
              "      <td>en</td>\n",
              "      <td>401</td>\n",
              "      <td>16</td>\n",
              "      <td>0.01</td>\n",
              "      <td>NaN</td>\n",
              "      <td>NaN</td>\n",
              "      <td>NaN</td>\n",
              "      <td>NaN</td>\n",
              "      <td>NaN</td>\n",
              "      <td>NaN</td>\n",
              "      <td>NaN</td>\n",
              "      <td>NaN</td>\n",
              "      <td>NaN</td>\n",
              "    </tr>\n",
              "    <tr>\n",
              "      <th>2</th>\n",
              "      <td>3</td>\n",
              "      <td>3</td>\n",
              "      <td>4</td>\n",
              "      <td>Relaxation</td>\n",
              "      <td>1</td>\n",
              "      <td>1</td>\n",
              "      <td>2</td>\n",
              "      <td>2</td>\n",
              "      <td>4</td>\n",
              "      <td>7</td>\n",
              "      <td>7</td>\n",
              "      <td>2</td>\n",
              "      <td>Personally, I am fairly calm about the corona ...</td>\n",
              "      <td>116.183</td>\n",
              "      <td>734.382</td>\n",
              "      <td>735.286</td>\n",
              "      <td>22</td>\n",
              "      <td>People should try and remain calm, as panic wi...</td>\n",
              "      <td>1345.874</td>\n",
              "      <td>1345.874</td>\n",
              "      <td>1398.381</td>\n",
              "      <td>1</td>\n",
              "      <td>7</td>\n",
              "      <td>6</td>\n",
              "      <td>8</td>\n",
              "      <td>9</td>\n",
              "      <td>2</td>\n",
              "      <td>4</td>\n",
              "      <td>No but I speak it fluently</td>\n",
              "      <td>132</td>\n",
              "      <td>631</td>\n",
              "      <td>15</td>\n",
              "      <td>78</td>\n",
              "      <td>en</td>\n",
              "      <td>en</td>\n",
              "      <td>25</td>\n",
              "      <td>10</td>\n",
              "      <td>0.02</td>\n",
              "      <td>NaN</td>\n",
              "      <td>NaN</td>\n",
              "      <td>NaN</td>\n",
              "      <td>NaN</td>\n",
              "      <td>NaN</td>\n",
              "      <td>NaN</td>\n",
              "      <td>NaN</td>\n",
              "      <td>NaN</td>\n",
              "      <td>NaN</td>\n",
              "    </tr>\n",
              "    <tr>\n",
              "      <th>3</th>\n",
              "      <td>4</td>\n",
              "      <td>4</td>\n",
              "      <td>6</td>\n",
              "      <td>Relaxation</td>\n",
              "      <td>4</td>\n",
              "      <td>2</td>\n",
              "      <td>3</td>\n",
              "      <td>4</td>\n",
              "      <td>1</td>\n",
              "      <td>6</td>\n",
              "      <td>7</td>\n",
              "      <td>3</td>\n",
              "      <td>In this very moment as I am fortunate to be ab...</td>\n",
              "      <td>1.016</td>\n",
              "      <td>137.120</td>\n",
              "      <td>171.076</td>\n",
              "      <td>18</td>\n",
              "      <td>Fortunate to feel calm and relaxed but worried...</td>\n",
              "      <td>3.865</td>\n",
              "      <td>42.945</td>\n",
              "      <td>46.675</td>\n",
              "      <td>4</td>\n",
              "      <td>8</td>\n",
              "      <td>6</td>\n",
              "      <td>9</td>\n",
              "      <td>8</td>\n",
              "      <td>6</td>\n",
              "      <td>3</td>\n",
              "      <td>Yes</td>\n",
              "      <td>132</td>\n",
              "      <td>713</td>\n",
              "      <td>22</td>\n",
              "      <td>141</td>\n",
              "      <td>en</td>\n",
              "      <td>en</td>\n",
              "      <td>1585</td>\n",
              "      <td>12</td>\n",
              "      <td>0.02</td>\n",
              "      <td>28.0</td>\n",
              "      <td>Belgium</td>\n",
              "      <td>United Kingdom</td>\n",
              "      <td>Full-Time</td>\n",
              "      <td>English</td>\n",
              "      <td>France</td>\n",
              "      <td>Female</td>\n",
              "      <td>Facebook, Youtube, Twitter, Linkedin</td>\n",
              "      <td>No</td>\n",
              "    </tr>\n",
              "    <tr>\n",
              "      <th>4</th>\n",
              "      <td>5</td>\n",
              "      <td>5</td>\n",
              "      <td>6</td>\n",
              "      <td>Anxiety</td>\n",
              "      <td>2</td>\n",
              "      <td>2</td>\n",
              "      <td>5</td>\n",
              "      <td>5</td>\n",
              "      <td>5</td>\n",
              "      <td>4</td>\n",
              "      <td>4</td>\n",
              "      <td>4</td>\n",
              "      <td>I am more worried about getting access to my n...</td>\n",
              "      <td>3.084</td>\n",
              "      <td>313.848</td>\n",
              "      <td>317.264</td>\n",
              "      <td>5</td>\n",
              "      <td>Not being able to cuddle my family sucks!</td>\n",
              "      <td>7.762</td>\n",
              "      <td>7.762</td>\n",
              "      <td>25.759</td>\n",
              "      <td>1</td>\n",
              "      <td>8</td>\n",
              "      <td>8</td>\n",
              "      <td>8</td>\n",
              "      <td>9</td>\n",
              "      <td>9</td>\n",
              "      <td>5</td>\n",
              "      <td>Yes</td>\n",
              "      <td>132</td>\n",
              "      <td>662</td>\n",
              "      <td>9</td>\n",
              "      <td>41</td>\n",
              "      <td>en</td>\n",
              "      <td>en</td>\n",
              "      <td>1207</td>\n",
              "      <td>13</td>\n",
              "      <td>0.02</td>\n",
              "      <td>57.0</td>\n",
              "      <td>United Kingdom</td>\n",
              "      <td>United Kingdom</td>\n",
              "      <td>Not in paid work (e.g. homemaker', 'retired or...</td>\n",
              "      <td>English</td>\n",
              "      <td>United Kingdom</td>\n",
              "      <td>Female</td>\n",
              "      <td>Youtube</td>\n",
              "      <td>No</td>\n",
              "    </tr>\n",
              "  </tbody>\n",
              "</table>\n",
              "</div>"
            ],
            "text/plain": [
              "   Unnamed: 0  V1  ...                          Social-Media Student Status\n",
              "0           1   1  ...                                   NaN            NaN\n",
              "1           2   2  ...                                   NaN            NaN\n",
              "2           3   3  ...                                   NaN            NaN\n",
              "3           4   4  ...  Facebook, Youtube, Twitter, Linkedin             No\n",
              "4           5   5  ...                               Youtube             No\n",
              "\n",
              "[5 rows x 47 columns]"
            ]
          },
          "metadata": {
            "tags": []
          },
          "execution_count": 4
        }
      ]
    },
    {
      "cell_type": "code",
      "metadata": {
        "id": "UfIpraN2TcgB",
        "colab_type": "code",
        "colab": {
          "base_uri": "https://localhost:8080/",
          "height": 51
        },
        "outputId": "c365fda4-ccb5-44af-cbce-d4214a40eb50"
      },
      "source": [
        "import re\n",
        "import nltk\n",
        "from nltk.corpus import stopwords\n",
        "nltk.download('stopwords')\n",
        "REPLACE_BY_SPACE_RE = re.compile('[/(){}\\[\\]\\|@,;]')\n",
        "BAD_SYMBOLS_RE = re.compile('[^0-9a-z #+_]')\n",
        "STOPWORDS = set(stopwords.words('english'))"
      ],
      "execution_count": null,
      "outputs": [
        {
          "output_type": "stream",
          "text": [
            "[nltk_data] Downloading package stopwords to /root/nltk_data...\n",
            "[nltk_data]   Unzipping corpora/stopwords.zip.\n"
          ],
          "name": "stdout"
        }
      ]
    },
    {
      "cell_type": "code",
      "metadata": {
        "id": "XS0gR3Y3TdBZ",
        "colab_type": "code",
        "colab": {}
      },
      "source": [
        "def clean_text(text):\n",
        "  text = text.lower()\n",
        "  text = REPLACE_BY_SPACE_RE.sub(' ' , text)\n",
        "  text = BAD_SYMBOLS_RE.sub(' ',text)\n",
        "  clean_text = ' '\n",
        "  for word in text.split():\n",
        "    if word not in STOPWORDS:\n",
        "      clean_text = clean_text + word + ' '\n",
        "  return clean_text"
      ],
      "execution_count": null,
      "outputs": []
    },
    {
      "cell_type": "code",
      "metadata": {
        "id": "9yPYPR7vUWZN",
        "colab_type": "code",
        "colab": {}
      },
      "source": [
        "df['text_long'] = df['text_long'].apply(clean_text)"
      ],
      "execution_count": null,
      "outputs": []
    },
    {
      "cell_type": "code",
      "metadata": {
        "id": "M0s-T1KaUfqp",
        "colab_type": "code",
        "colab": {}
      },
      "source": [
        "df['text_long'] = df['text_long'].str.replace('\\d+' ,' ')"
      ],
      "execution_count": null,
      "outputs": []
    },
    {
      "cell_type": "code",
      "metadata": {
        "id": "ogCROhpDUul6",
        "colab_type": "code",
        "colab": {}
      },
      "source": [
        "MAX_NB_WORDS = 2000\n",
        "MAX_SEQUENCE_LENGTH = 500\n",
        "EMBEDDING_DIM = 100"
      ],
      "execution_count": null,
      "outputs": []
    },
    {
      "cell_type": "code",
      "metadata": {
        "id": "hVmFUcuzU-PM",
        "colab_type": "code",
        "colab": {
          "base_uri": "https://localhost:8080/",
          "height": 34
        },
        "outputId": "601fdac5-fd9a-4fbf-aed6-c1c55d4492de"
      },
      "source": [
        "from nltk import word_tokenize\n",
        "from keras.preprocessing.text import Tokenizer\n",
        "from keras.preprocessing.sequence import pad_sequences\n",
        "from keras.models import Sequential\n",
        "from keras.layers import Dense, Embedding, LSTM, SpatialDropout1D\n",
        "from sklearn.model_selection import train_test_split\n",
        "from keras.utils.np_utils import to_categorical\n",
        "from keras.callbacks import EarlyStopping\n",
        "from keras.layers import Dropout"
      ],
      "execution_count": null,
      "outputs": [
        {
          "output_type": "stream",
          "text": [
            "Using TensorFlow backend.\n"
          ],
          "name": "stderr"
        }
      ]
    },
    {
      "cell_type": "code",
      "metadata": {
        "id": "K0b1wW-IU_xn",
        "colab_type": "code",
        "colab": {
          "base_uri": "https://localhost:8080/",
          "height": 34
        },
        "outputId": "b90ee238-093d-4c66-8f40-feed621326e5"
      },
      "source": [
        "tokenizer = Tokenizer(num_words=MAX_NB_WORDS, filters='!\"#$%&()*+,-./:;<=>?@[\\]^_`{|}~', lower=True)\n",
        "tokenizer.fit_on_texts(df['text_long'].values)\n",
        "word_index = tokenizer.word_index\n",
        "print('Found %s unique tokens.' % len(word_index))"
      ],
      "execution_count": null,
      "outputs": [
        {
          "output_type": "stream",
          "text": [
            "Found 8239 unique tokens.\n"
          ],
          "name": "stdout"
        }
      ]
    },
    {
      "cell_type": "code",
      "metadata": {
        "id": "WznhHWNOV0ju",
        "colab_type": "code",
        "colab": {
          "base_uri": "https://localhost:8080/",
          "height": 34
        },
        "outputId": "4d0a3234-c421-46fe-aa90-51dbb85c8545"
      },
      "source": [
        "X = tokenizer.texts_to_sequences(df['text_long'].values)\n",
        "X = pad_sequences(X, maxlen=MAX_SEQUENCE_LENGTH)\n",
        "print('Shape of data tensor:', X.shape)"
      ],
      "execution_count": null,
      "outputs": [
        {
          "output_type": "stream",
          "text": [
            "Shape of data tensor: (2491, 500)\n"
          ],
          "name": "stdout"
        }
      ]
    },
    {
      "cell_type": "code",
      "metadata": {
        "id": "45as22deV6rA",
        "colab_type": "code",
        "colab": {
          "base_uri": "https://localhost:8080/",
          "height": 34
        },
        "outputId": "cc930f9c-fa1b-4570-f23f-2361b1e6f6d2"
      },
      "source": [
        "Y = pd.get_dummies(df['chosen_emotion']).values\n",
        "print('Shape of label tensor:', Y.shape)"
      ],
      "execution_count": null,
      "outputs": [
        {
          "output_type": "stream",
          "text": [
            "Shape of label tensor: (2491, 8)\n"
          ],
          "name": "stdout"
        }
      ]
    },
    {
      "cell_type": "code",
      "metadata": {
        "id": "J-AdOAjUWKjT",
        "colab_type": "code",
        "colab": {
          "base_uri": "https://localhost:8080/",
          "height": 51
        },
        "outputId": "d5162e76-4832-4991-b64b-c2187143c124"
      },
      "source": [
        "X_train, X_test, Y_train, Y_test = train_test_split(X,Y, test_size = 0.10, random_state = 42)\n",
        "print(X_train.shape,Y_train.shape)\n",
        "print(X_test.shape,Y_test.shape)"
      ],
      "execution_count": null,
      "outputs": [
        {
          "output_type": "stream",
          "text": [
            "(2241, 500) (2241, 8)\n",
            "(250, 500) (250, 8)\n"
          ],
          "name": "stdout"
        }
      ]
    },
    {
      "cell_type": "code",
      "metadata": {
        "id": "CrX0WFhrWNIz",
        "colab_type": "code",
        "colab": {
          "base_uri": "https://localhost:8080/",
          "height": 340
        },
        "outputId": "388825b7-8cf8-481f-a810-7b01e7e3a40c"
      },
      "source": [
        "#LSTM Model\n",
        "\n",
        "model = Sequential()\n",
        "model.add(Embedding(MAX_NB_WORDS, EMBEDDING_DIM, input_length=X.shape[1]))\n",
        "model.add(SpatialDropout1D(0.2))\n",
        "model.add(LSTM(200, dropout=0.2, recurrent_dropout=0.2))\n",
        "model.add(Dense(20))\n",
        "model.add(Dense(8, activation='softmax'))\n",
        "model.compile(loss='categorical_crossentropy', optimizer='adam', metrics=['accuracy'])\n",
        "print(model.summary())"
      ],
      "execution_count": null,
      "outputs": [
        {
          "output_type": "stream",
          "text": [
            "Model: \"sequential_1\"\n",
            "_________________________________________________________________\n",
            "Layer (type)                 Output Shape              Param #   \n",
            "=================================================================\n",
            "embedding_1 (Embedding)      (None, 500, 100)          200000    \n",
            "_________________________________________________________________\n",
            "spatial_dropout1d_1 (Spatial (None, 500, 100)          0         \n",
            "_________________________________________________________________\n",
            "lstm_1 (LSTM)                (None, 200)               240800    \n",
            "_________________________________________________________________\n",
            "dense_1 (Dense)              (None, 20)                4020      \n",
            "_________________________________________________________________\n",
            "dense_2 (Dense)              (None, 8)                 168       \n",
            "=================================================================\n",
            "Total params: 444,988\n",
            "Trainable params: 444,988\n",
            "Non-trainable params: 0\n",
            "_________________________________________________________________\n",
            "None\n"
          ],
          "name": "stdout"
        }
      ]
    },
    {
      "cell_type": "code",
      "metadata": {
        "id": "F5TO2sIrWRP6",
        "colab_type": "code",
        "colab": {
          "base_uri": "https://localhost:8080/",
          "height": 258
        },
        "outputId": "4d083a51-f3e1-447f-be1c-7e2e27c0c9a5"
      },
      "source": [
        "epochs = 10\n",
        "batch_size = 64\n",
        "\n",
        "history = model.fit(X_train, Y_train, epochs=epochs, batch_size=batch_size,validation_split=0.1,callbacks=[EarlyStopping(monitor='val_loss', patience=3, min_delta=0.0001)])"
      ],
      "execution_count": null,
      "outputs": [
        {
          "output_type": "stream",
          "text": [
            "/usr/local/lib/python3.6/dist-packages/tensorflow/python/framework/indexed_slices.py:434: UserWarning: Converting sparse IndexedSlices to a dense Tensor of unknown shape. This may consume a large amount of memory.\n",
            "  \"Converting sparse IndexedSlices to a dense Tensor of unknown shape. \"\n"
          ],
          "name": "stderr"
        },
        {
          "output_type": "stream",
          "text": [
            "Train on 2016 samples, validate on 225 samples\n",
            "Epoch 1/10\n",
            "2016/2016 [==============================] - 33s 16ms/step - loss: 1.6181 - accuracy: 0.5441 - val_loss: 1.3396 - val_accuracy: 0.5867\n",
            "Epoch 2/10\n",
            "2016/2016 [==============================] - 30s 15ms/step - loss: 1.3602 - accuracy: 0.5570 - val_loss: 1.3281 - val_accuracy: 0.5867\n",
            "Epoch 3/10\n",
            "2016/2016 [==============================] - 31s 15ms/step - loss: 1.3238 - accuracy: 0.5570 - val_loss: 1.3654 - val_accuracy: 0.5867\n",
            "Epoch 4/10\n",
            "2016/2016 [==============================] - 30s 15ms/step - loss: 1.2227 - accuracy: 0.5605 - val_loss: 1.4532 - val_accuracy: 0.5689\n",
            "Epoch 5/10\n",
            "2016/2016 [==============================] - 32s 16ms/step - loss: 1.1169 - accuracy: 0.6141 - val_loss: 1.5609 - val_accuracy: 0.5422\n"
          ],
          "name": "stdout"
        }
      ]
    },
    {
      "cell_type": "code",
      "metadata": {
        "id": "4Niy5ZWd35R4",
        "colab_type": "code",
        "colab": {}
      },
      "source": [
        "# Getting the output of Layers \n",
        "from keras import backend as K\n",
        "\n",
        "# with a Sequential model\n",
        "get_3rd_layer_output = K.function([model.layers[0].input],\n",
        "                                  [model.layers[3].output])"
      ],
      "execution_count": null,
      "outputs": []
    },
    {
      "cell_type": "code",
      "metadata": {
        "id": "nYtsLpVA4_cr",
        "colab_type": "code",
        "colab": {}
      },
      "source": [
        "layers_output = get_3rd_layer_output([X])"
      ],
      "execution_count": null,
      "outputs": []
    },
    {
      "cell_type": "code",
      "metadata": {
        "id": "1hBJquTC7wG5",
        "colab_type": "code",
        "colab": {
          "base_uri": "https://localhost:8080/",
          "height": 34
        },
        "outputId": "bef5bee6-5442-4b1c-dd3a-fb3cff0429a6"
      },
      "source": [
        "layers_output[0][1][0]"
      ],
      "execution_count": null,
      "outputs": [
        {
          "output_type": "execute_result",
          "data": {
            "text/plain": [
              "0.13325037"
            ]
          },
          "metadata": {
            "tags": []
          },
          "execution_count": 35
        }
      ]
    },
    {
      "cell_type": "code",
      "metadata": {
        "id": "weDzmYtq5v40",
        "colab_type": "code",
        "colab": {}
      },
      "source": [
        "id = df['id']\n",
        "dense_layer_output = []\n",
        "df_dense_layer_output = pd.DataFrame()\n",
        "for i in range(len(layers_output[0])):\n",
        "  dense_layer_output.append(layers_output[0][i])"
      ],
      "execution_count": null,
      "outputs": []
    },
    {
      "cell_type": "code",
      "metadata": {
        "id": "rTXNC2qr6eLt",
        "colab_type": "code",
        "colab": {}
      },
      "source": [
        "df_dense_layer_output['id'] = id\n",
        "df_dense_layer_output['output'] = dense_layer_output"
      ],
      "execution_count": null,
      "outputs": []
    },
    {
      "cell_type": "code",
      "metadata": {
        "id": "vllY6_6w6pV1",
        "colab_type": "code",
        "colab": {}
      },
      "source": [
        "df_dense_layer_output.to_csv('dense_layer_output.csv')"
      ],
      "execution_count": null,
      "outputs": []
    },
    {
      "cell_type": "code",
      "metadata": {
        "id": "V-x3d9v7BJUL",
        "colab_type": "code",
        "colab": {}
      },
      "source": [
        "from sklearn.cluster import KMeans\n",
        "kmeans  = KMeans(n_clusters = 8)"
      ],
      "execution_count": null,
      "outputs": []
    },
    {
      "cell_type": "code",
      "metadata": {
        "id": "sZs_RJgHBJOG",
        "colab_type": "code",
        "colab": {}
      },
      "source": [
        "x = df_dense_layer_output['output']\n",
        "df_cluster = pd.DataFrame()\n",
        "df_cluster['id'] = id\n",
        "for i in range(20):\n",
        "  j = i\n",
        "  j = []\n",
        "  for k in range(len(layers_output[0])):\n",
        "    j.append(layers_output[0][k][i])\n",
        "  df_cluster[str(i)] = j"
      ],
      "execution_count": null,
      "outputs": []
    },
    {
      "cell_type": "code",
      "metadata": {
        "id": "fo4se__QBJHJ",
        "colab_type": "code",
        "colab": {
          "base_uri": "https://localhost:8080/",
          "height": 224
        },
        "outputId": "b35185be-0411-4cb2-f960-f4d5abdc36f0"
      },
      "source": [
        "df_cluster.head()"
      ],
      "execution_count": null,
      "outputs": [
        {
          "output_type": "execute_result",
          "data": {
            "text/html": [
              "<div>\n",
              "<style scoped>\n",
              "    .dataframe tbody tr th:only-of-type {\n",
              "        vertical-align: middle;\n",
              "    }\n",
              "\n",
              "    .dataframe tbody tr th {\n",
              "        vertical-align: top;\n",
              "    }\n",
              "\n",
              "    .dataframe thead th {\n",
              "        text-align: right;\n",
              "    }\n",
              "</style>\n",
              "<table border=\"1\" class=\"dataframe\">\n",
              "  <thead>\n",
              "    <tr style=\"text-align: right;\">\n",
              "      <th></th>\n",
              "      <th>id</th>\n",
              "      <th>0</th>\n",
              "      <th>1</th>\n",
              "      <th>2</th>\n",
              "      <th>3</th>\n",
              "      <th>4</th>\n",
              "      <th>5</th>\n",
              "      <th>6</th>\n",
              "      <th>7</th>\n",
              "      <th>8</th>\n",
              "      <th>9</th>\n",
              "      <th>10</th>\n",
              "      <th>11</th>\n",
              "      <th>12</th>\n",
              "      <th>13</th>\n",
              "      <th>14</th>\n",
              "      <th>15</th>\n",
              "      <th>16</th>\n",
              "      <th>17</th>\n",
              "      <th>18</th>\n",
              "      <th>19</th>\n",
              "    </tr>\n",
              "  </thead>\n",
              "  <tbody>\n",
              "    <tr>\n",
              "      <th>0</th>\n",
              "      <td>1815</td>\n",
              "      <td>0.046228</td>\n",
              "      <td>0.113866</td>\n",
              "      <td>0.045033</td>\n",
              "      <td>-0.010134</td>\n",
              "      <td>0.177952</td>\n",
              "      <td>0.311705</td>\n",
              "      <td>-0.840201</td>\n",
              "      <td>-0.161726</td>\n",
              "      <td>0.052286</td>\n",
              "      <td>0.363925</td>\n",
              "      <td>-0.652260</td>\n",
              "      <td>0.281591</td>\n",
              "      <td>-0.049353</td>\n",
              "      <td>-0.812854</td>\n",
              "      <td>-0.169597</td>\n",
              "      <td>-0.136133</td>\n",
              "      <td>-0.311472</td>\n",
              "      <td>-0.155448</td>\n",
              "      <td>-0.523279</td>\n",
              "      <td>-0.300819</td>\n",
              "    </tr>\n",
              "    <tr>\n",
              "      <th>1</th>\n",
              "      <td>401</td>\n",
              "      <td>0.133250</td>\n",
              "      <td>0.193932</td>\n",
              "      <td>0.168201</td>\n",
              "      <td>-0.113047</td>\n",
              "      <td>0.283664</td>\n",
              "      <td>0.326703</td>\n",
              "      <td>-1.145501</td>\n",
              "      <td>-0.016177</td>\n",
              "      <td>0.051451</td>\n",
              "      <td>0.385881</td>\n",
              "      <td>-0.802616</td>\n",
              "      <td>0.615754</td>\n",
              "      <td>-0.103530</td>\n",
              "      <td>-0.895792</td>\n",
              "      <td>-0.401284</td>\n",
              "      <td>-0.237747</td>\n",
              "      <td>-0.513856</td>\n",
              "      <td>-0.213717</td>\n",
              "      <td>-0.760715</td>\n",
              "      <td>-0.414253</td>\n",
              "    </tr>\n",
              "    <tr>\n",
              "      <th>2</th>\n",
              "      <td>25</td>\n",
              "      <td>0.018489</td>\n",
              "      <td>0.160838</td>\n",
              "      <td>-0.006908</td>\n",
              "      <td>-0.155278</td>\n",
              "      <td>0.047983</td>\n",
              "      <td>0.262422</td>\n",
              "      <td>-0.664082</td>\n",
              "      <td>-0.051694</td>\n",
              "      <td>0.145504</td>\n",
              "      <td>0.234295</td>\n",
              "      <td>-0.403626</td>\n",
              "      <td>0.372480</td>\n",
              "      <td>-0.180650</td>\n",
              "      <td>-0.572628</td>\n",
              "      <td>-0.211124</td>\n",
              "      <td>0.021070</td>\n",
              "      <td>-0.309687</td>\n",
              "      <td>-0.023232</td>\n",
              "      <td>-0.495942</td>\n",
              "      <td>-0.220811</td>\n",
              "    </tr>\n",
              "    <tr>\n",
              "      <th>3</th>\n",
              "      <td>1585</td>\n",
              "      <td>0.093484</td>\n",
              "      <td>0.228072</td>\n",
              "      <td>0.130458</td>\n",
              "      <td>-0.256968</td>\n",
              "      <td>0.157841</td>\n",
              "      <td>0.238932</td>\n",
              "      <td>-0.939505</td>\n",
              "      <td>0.053195</td>\n",
              "      <td>0.102249</td>\n",
              "      <td>0.230374</td>\n",
              "      <td>-0.573760</td>\n",
              "      <td>0.634606</td>\n",
              "      <td>-0.221357</td>\n",
              "      <td>-0.633546</td>\n",
              "      <td>-0.406645</td>\n",
              "      <td>-0.096473</td>\n",
              "      <td>-0.468270</td>\n",
              "      <td>-0.110303</td>\n",
              "      <td>-0.669549</td>\n",
              "      <td>-0.320240</td>\n",
              "    </tr>\n",
              "    <tr>\n",
              "      <th>4</th>\n",
              "      <td>1207</td>\n",
              "      <td>0.702737</td>\n",
              "      <td>0.423739</td>\n",
              "      <td>0.940426</td>\n",
              "      <td>-0.372415</td>\n",
              "      <td>1.061717</td>\n",
              "      <td>0.123969</td>\n",
              "      <td>-2.604922</td>\n",
              "      <td>0.490832</td>\n",
              "      <td>-0.468895</td>\n",
              "      <td>0.403781</td>\n",
              "      <td>-1.802593</td>\n",
              "      <td>1.640814</td>\n",
              "      <td>-0.080150</td>\n",
              "      <td>-1.248198</td>\n",
              "      <td>-1.266372</td>\n",
              "      <td>-0.999632</td>\n",
              "      <td>-1.194610</td>\n",
              "      <td>-0.829401</td>\n",
              "      <td>-1.507679</td>\n",
              "      <td>-1.002580</td>\n",
              "    </tr>\n",
              "  </tbody>\n",
              "</table>\n",
              "</div>"
            ],
            "text/plain": [
              "     id         0         1         2  ...        16        17        18        19\n",
              "0  1815  0.046228  0.113866  0.045033  ... -0.311472 -0.155448 -0.523279 -0.300819\n",
              "1   401  0.133250  0.193932  0.168201  ... -0.513856 -0.213717 -0.760715 -0.414253\n",
              "2    25  0.018489  0.160838 -0.006908  ... -0.309687 -0.023232 -0.495942 -0.220811\n",
              "3  1585  0.093484  0.228072  0.130458  ... -0.468270 -0.110303 -0.669549 -0.320240\n",
              "4  1207  0.702737  0.423739  0.940426  ... -1.194610 -0.829401 -1.507679 -1.002580\n",
              "\n",
              "[5 rows x 21 columns]"
            ]
          },
          "metadata": {
            "tags": []
          },
          "execution_count": 37
        }
      ]
    },
    {
      "cell_type": "code",
      "metadata": {
        "id": "XMz1fV0iBJAC",
        "colab_type": "code",
        "colab": {}
      },
      "source": [
        "x = df_cluster.drop(['id'], axis=1)"
      ],
      "execution_count": null,
      "outputs": []
    },
    {
      "cell_type": "code",
      "metadata": {
        "id": "3iRkB-kfBI47",
        "colab_type": "code",
        "colab": {
          "base_uri": "https://localhost:8080/",
          "height": 68
        },
        "outputId": "854d0b80-ef35-4db0-a90f-eec2177352ce"
      },
      "source": [
        "kmeans.fit(x)"
      ],
      "execution_count": null,
      "outputs": [
        {
          "output_type": "execute_result",
          "data": {
            "text/plain": [
              "KMeans(algorithm='auto', copy_x=True, init='k-means++', max_iter=300,\n",
              "       n_clusters=8, n_init=10, n_jobs=None, precompute_distances='auto',\n",
              "       random_state=None, tol=0.0001, verbose=0)"
            ]
          },
          "metadata": {
            "tags": []
          },
          "execution_count": 39
        }
      ]
    },
    {
      "cell_type": "code",
      "metadata": {
        "id": "6URlBcDYBIyj",
        "colab_type": "code",
        "colab": {}
      },
      "source": [
        "y_cluster = kmeans.predict(x)"
      ],
      "execution_count": null,
      "outputs": []
    },
    {
      "cell_type": "code",
      "metadata": {
        "id": "-_OiKyL-BIrG",
        "colab_type": "code",
        "colab": {}
      },
      "source": [
        "# Cluster Labels\n",
        "df_labels = pd.DataFrame()\n",
        "df_labels['id'] = id\n",
        "df_labels['cluster'] = y_cluster\n",
        "df_labels['emotion'] = df['chosen_emotion']"
      ],
      "execution_count": null,
      "outputs": []
    },
    {
      "cell_type": "code",
      "metadata": {
        "id": "ypcatwieBIb_",
        "colab_type": "code",
        "colab": {}
      },
      "source": [
        "df_labels.to_csv(\"cluster_labels.csv\")"
      ],
      "execution_count": null,
      "outputs": []
    },
    {
      "cell_type": "code",
      "metadata": {
        "id": "tWp0oy3MRSfY",
        "colab_type": "code",
        "colab": {
          "base_uri": "https://localhost:8080/",
          "height": 170
        },
        "outputId": "ad0a80ff-2c7c-44d1-8aa6-5f5a0b9f5507"
      },
      "source": [
        "# Finding dominant emotion in cluster\n",
        "df_cluster_0 = df_labels[df_labels.cluster == 0]\n",
        "df_cluster_0['emotion'].value_counts()"
      ],
      "execution_count": null,
      "outputs": [
        {
          "output_type": "execute_result",
          "data": {
            "text/plain": [
              "Anxiety       341\n",
              "Sadness        43\n",
              "Relaxation     34\n",
              "Fear           18\n",
              "Anger           8\n",
              "Desire          2\n",
              "Happiness       2\n",
              "Disgust         1\n",
              "Name: emotion, dtype: int64"
            ]
          },
          "metadata": {
            "tags": []
          },
          "execution_count": 47
        }
      ]
    },
    {
      "cell_type": "code",
      "metadata": {
        "id": "_ZUnb1CuRSW0",
        "colab_type": "code",
        "colab": {
          "base_uri": "https://localhost:8080/",
          "height": 170
        },
        "outputId": "c1d3692e-70d3-42d9-a56c-e4a7b69f4877"
      },
      "source": [
        "df_cluster_1 = df_labels[df_labels.cluster == 1]\n",
        "df_cluster_1['emotion'].value_counts()"
      ],
      "execution_count": null,
      "outputs": [
        {
          "output_type": "execute_result",
          "data": {
            "text/plain": [
              "Relaxation    119\n",
              "Anxiety        97\n",
              "Sadness        89\n",
              "Fear           71\n",
              "Anger          21\n",
              "Desire          5\n",
              "Happiness       4\n",
              "Disgust         1\n",
              "Name: emotion, dtype: int64"
            ]
          },
          "metadata": {
            "tags": []
          },
          "execution_count": 48
        }
      ]
    },
    {
      "cell_type": "code",
      "metadata": {
        "id": "R5vlddnfRSN3",
        "colab_type": "code",
        "colab": {
          "base_uri": "https://localhost:8080/",
          "height": 119
        },
        "outputId": "dfe70098-9f62-43aa-b80f-b2292e04bf6c"
      },
      "source": [
        "df_cluster_2 = df_labels[df_labels.cluster == 2]\n",
        "df_cluster_2['emotion'].value_counts()"
      ],
      "execution_count": null,
      "outputs": [
        {
          "output_type": "execute_result",
          "data": {
            "text/plain": [
              "Anxiety       254\n",
              "Sadness         5\n",
              "Anger           4\n",
              "Relaxation      3\n",
              "Fear            2\n",
              "Name: emotion, dtype: int64"
            ]
          },
          "metadata": {
            "tags": []
          },
          "execution_count": 49
        }
      ]
    },
    {
      "cell_type": "code",
      "metadata": {
        "id": "OOyVvhJPRSE2",
        "colab_type": "code",
        "colab": {
          "base_uri": "https://localhost:8080/",
          "height": 170
        },
        "outputId": "b1850259-6835-4825-9a00-a3f1b2225e12"
      },
      "source": [
        "df_cluster_3 = df_labels[df_labels.cluster == 3]\n",
        "df_cluster_3['emotion'].value_counts()"
      ],
      "execution_count": null,
      "outputs": [
        {
          "output_type": "execute_result",
          "data": {
            "text/plain": [
              "Anger         28\n",
              "Fear          23\n",
              "Sadness       19\n",
              "Happiness     13\n",
              "Relaxation    11\n",
              "Disgust        7\n",
              "Desire         6\n",
              "Anxiety        4\n",
              "Name: emotion, dtype: int64"
            ]
          },
          "metadata": {
            "tags": []
          },
          "execution_count": 50
        }
      ]
    },
    {
      "cell_type": "code",
      "metadata": {
        "id": "2OD8xfArRR70",
        "colab_type": "code",
        "colab": {
          "base_uri": "https://localhost:8080/",
          "height": 68
        },
        "outputId": "3fa1135d-3197-44b1-d043-c026e25bd8f6"
      },
      "source": [
        "df_cluster_4 = df_labels[df_labels.cluster == 4]\n",
        "df_cluster_4['emotion'].value_counts()"
      ],
      "execution_count": null,
      "outputs": [
        {
          "output_type": "execute_result",
          "data": {
            "text/plain": [
              "Anxiety    86\n",
              "Sadness     3\n",
              "Name: emotion, dtype: int64"
            ]
          },
          "metadata": {
            "tags": []
          },
          "execution_count": 51
        }
      ]
    },
    {
      "cell_type": "code",
      "metadata": {
        "id": "RYvemCb4RRz8",
        "colab_type": "code",
        "colab": {
          "base_uri": "https://localhost:8080/",
          "height": 153
        },
        "outputId": "f3ca08fd-82c4-49cf-a305-440a5519ae31"
      },
      "source": [
        "df_cluster_5 = df_labels[df_labels.cluster == 5]\n",
        "df_cluster_5['emotion'].value_counts()"
      ],
      "execution_count": null,
      "outputs": [
        {
          "output_type": "execute_result",
          "data": {
            "text/plain": [
              "Anxiety       339\n",
              "Relaxation     23\n",
              "Sadness        20\n",
              "Fear            9\n",
              "Anger           6\n",
              "Desire          2\n",
              "Disgust         1\n",
              "Name: emotion, dtype: int64"
            ]
          },
          "metadata": {
            "tags": []
          },
          "execution_count": 52
        }
      ]
    },
    {
      "cell_type": "code",
      "metadata": {
        "id": "K71pLCt2RRrQ",
        "colab_type": "code",
        "colab": {
          "base_uri": "https://localhost:8080/",
          "height": 170
        },
        "outputId": "5b76b31e-08ae-4135-bc7d-516b1e14ee3b"
      },
      "source": [
        "df_cluster_6 = df_labels[df_labels.cluster == 6]\n",
        "df_cluster_6['emotion'].value_counts()"
      ],
      "execution_count": null,
      "outputs": [
        {
          "output_type": "execute_result",
          "data": {
            "text/plain": [
              "Sadness       90\n",
              "Fear          60\n",
              "Relaxation    55\n",
              "Anxiety       29\n",
              "Anger         29\n",
              "Happiness     17\n",
              "Desire         9\n",
              "Disgust        5\n",
              "Name: emotion, dtype: int64"
            ]
          },
          "metadata": {
            "tags": []
          },
          "execution_count": 54
        }
      ]
    },
    {
      "cell_type": "code",
      "metadata": {
        "id": "aUq_dJV7SA8E",
        "colab_type": "code",
        "colab": {
          "base_uri": "https://localhost:8080/",
          "height": 170
        },
        "outputId": "cb53bd7f-0dd1-454a-857f-02141f881b4f"
      },
      "source": [
        "df_cluster_7 = df_labels[df_labels.cluster == 7]\n",
        "df_cluster_7['emotion'].value_counts()"
      ],
      "execution_count": null,
      "outputs": [
        {
          "output_type": "execute_result",
          "data": {
            "text/plain": [
              "Anxiety       231\n",
              "Relaxation     88\n",
              "Sadness        88\n",
              "Fear           47\n",
              "Anger          11\n",
              "Desire          3\n",
              "Happiness       3\n",
              "Disgust         2\n",
              "Name: emotion, dtype: int64"
            ]
          },
          "metadata": {
            "tags": []
          },
          "execution_count": 55
        }
      ]
    },
    {
      "cell_type": "code",
      "metadata": {
        "id": "rEt1N8zHSBaH",
        "colab_type": "code",
        "colab": {}
      },
      "source": [
        ""
      ],
      "execution_count": null,
      "outputs": []
    },
    {
      "cell_type": "code",
      "metadata": {
        "id": "cr681YgU7kzu",
        "colab_type": "code",
        "colab": {
          "base_uri": "https://localhost:8080/",
          "height": 204
        },
        "outputId": "355fe1d4-c0e7-4d6b-d093-98c2e0d0bdf9"
      },
      "source": [
        "df_dense_layer_output.head()"
      ],
      "execution_count": null,
      "outputs": [
        {
          "output_type": "execute_result",
          "data": {
            "text/html": [
              "<div>\n",
              "<style scoped>\n",
              "    .dataframe tbody tr th:only-of-type {\n",
              "        vertical-align: middle;\n",
              "    }\n",
              "\n",
              "    .dataframe tbody tr th {\n",
              "        vertical-align: top;\n",
              "    }\n",
              "\n",
              "    .dataframe thead th {\n",
              "        text-align: right;\n",
              "    }\n",
              "</style>\n",
              "<table border=\"1\" class=\"dataframe\">\n",
              "  <thead>\n",
              "    <tr style=\"text-align: right;\">\n",
              "      <th></th>\n",
              "      <th>id</th>\n",
              "      <th>output</th>\n",
              "    </tr>\n",
              "  </thead>\n",
              "  <tbody>\n",
              "    <tr>\n",
              "      <th>0</th>\n",
              "      <td>1815</td>\n",
              "      <td>[0.28202912, -0.10968205, -0.7513055, -0.42284...</td>\n",
              "    </tr>\n",
              "    <tr>\n",
              "      <th>1</th>\n",
              "      <td>401</td>\n",
              "      <td>[0.42700177, 0.061554946, -0.9832161, -0.59236...</td>\n",
              "    </tr>\n",
              "    <tr>\n",
              "      <th>2</th>\n",
              "      <td>25</td>\n",
              "      <td>[0.022476539, -0.18372938, -0.22511074, 0.0058...</td>\n",
              "    </tr>\n",
              "    <tr>\n",
              "      <th>3</th>\n",
              "      <td>1585</td>\n",
              "      <td>[0.088192925, -0.13339509, -0.4006941, -0.1378...</td>\n",
              "    </tr>\n",
              "    <tr>\n",
              "      <th>4</th>\n",
              "      <td>1207</td>\n",
              "      <td>[1.3047233, 0.75580734, -2.106079, -1.622969, ...</td>\n",
              "    </tr>\n",
              "  </tbody>\n",
              "</table>\n",
              "</div>"
            ],
            "text/plain": [
              "     id                                             output\n",
              "0  1815  [0.28202912, -0.10968205, -0.7513055, -0.42284...\n",
              "1   401  [0.42700177, 0.061554946, -0.9832161, -0.59236...\n",
              "2    25  [0.022476539, -0.18372938, -0.22511074, 0.0058...\n",
              "3  1585  [0.088192925, -0.13339509, -0.4006941, -0.1378...\n",
              "4  1207  [1.3047233, 0.75580734, -2.106079, -1.622969, ..."
            ]
          },
          "metadata": {
            "tags": []
          },
          "execution_count": 41
        }
      ]
    },
    {
      "cell_type": "code",
      "metadata": {
        "id": "XHURTlZQWWTW",
        "colab_type": "code",
        "colab": {
          "base_uri": "https://localhost:8080/",
          "height": 306
        },
        "outputId": "1ff96729-433e-40e6-9a1a-cae760c7b068"
      },
      "source": [
        "# GRU Model\n",
        "\n",
        "from keras.layers import GRU\n",
        "model2 = Sequential()\n",
        "model2.add(Embedding(MAX_NB_WORDS, EMBEDDING_DIM, input_length=X.shape[1]))\n",
        "model2.add(SpatialDropout1D(0.2))\n",
        "model2.add(GRU(200, dropout=0.2, recurrent_dropout=0.2))\n",
        "model2.add(Dense(8, activation='softmax'))\n",
        "model2.compile(loss='categorical_crossentropy', optimizer='adam', metrics=['accuracy'])\n",
        "print(model2.summary())"
      ],
      "execution_count": null,
      "outputs": [
        {
          "output_type": "stream",
          "text": [
            "Model: \"sequential_2\"\n",
            "_________________________________________________________________\n",
            "Layer (type)                 Output Shape              Param #   \n",
            "=================================================================\n",
            "embedding_2 (Embedding)      (None, 500, 100)          200000    \n",
            "_________________________________________________________________\n",
            "spatial_dropout1d_2 (Spatial (None, 500, 100)          0         \n",
            "_________________________________________________________________\n",
            "gru_1 (GRU)                  (None, 200)               180600    \n",
            "_________________________________________________________________\n",
            "dense_2 (Dense)              (None, 8)                 1608      \n",
            "=================================================================\n",
            "Total params: 382,208\n",
            "Trainable params: 382,208\n",
            "Non-trainable params: 0\n",
            "_________________________________________________________________\n",
            "None\n"
          ],
          "name": "stdout"
        }
      ]
    },
    {
      "cell_type": "code",
      "metadata": {
        "id": "dJ79ysw-Z94P",
        "colab_type": "code",
        "colab": {}
      },
      "source": [
        "epochs = 10\n",
        "batch_size = 64\n",
        "\n",
        "history = model2.fit(X_train, Y_train, epochs=epochs, batch_size=batch_size,validation_split=0.1,callbacks=[EarlyStopping(monitor='val_loss', patience=3, min_delta=0.0001)])"
      ],
      "execution_count": null,
      "outputs": []
    },
    {
      "cell_type": "code",
      "metadata": {
        "id": "MBxkZqA8aNYy",
        "colab_type": "code",
        "colab": {
          "base_uri": "https://localhost:8080/",
          "height": 340
        },
        "outputId": "c1165277-28bd-47ae-8e6f-0686c99025a7"
      },
      "source": [
        "# Bi - Directional LSTM\n",
        "from keras.layers import Bidirectional\n",
        "model3 = Sequential()\n",
        "model3.add(Embedding(MAX_NB_WORDS, EMBEDDING_DIM, input_length=X.shape[1]))\n",
        "model3.add(SpatialDropout1D(0.2))\n",
        "model3.add(Bidirectional(LSTM(64)))\n",
        "model3.add(Dropout(0.5))\n",
        "model3.add(Dense(8, activation='softmax'))\n",
        "model3.compile(loss='categorical_crossentropy', optimizer='adam', metrics=['accuracy'])\n",
        "print(model3.summary())"
      ],
      "execution_count": null,
      "outputs": [
        {
          "output_type": "stream",
          "text": [
            "Model: \"sequential_8\"\n",
            "_________________________________________________________________\n",
            "Layer (type)                 Output Shape              Param #   \n",
            "=================================================================\n",
            "embedding_8 (Embedding)      (None, 500, 100)          200000    \n",
            "_________________________________________________________________\n",
            "spatial_dropout1d_8 (Spatial (None, 500, 100)          0         \n",
            "_________________________________________________________________\n",
            "bidirectional_1 (Bidirection (None, 128)               84480     \n",
            "_________________________________________________________________\n",
            "dropout_1 (Dropout)          (None, 128)               0         \n",
            "_________________________________________________________________\n",
            "dense_6 (Dense)              (None, 8)                 1032      \n",
            "=================================================================\n",
            "Total params: 285,512\n",
            "Trainable params: 285,512\n",
            "Non-trainable params: 0\n",
            "_________________________________________________________________\n",
            "None\n"
          ],
          "name": "stdout"
        }
      ]
    },
    {
      "cell_type": "code",
      "metadata": {
        "id": "CNFnOSh9bjHk",
        "colab_type": "code",
        "colab": {
          "base_uri": "https://localhost:8080/",
          "height": 224
        },
        "outputId": "0f1b8385-46ee-4f5c-ba8b-c312452c5c61"
      },
      "source": [
        "epochs = 5\n",
        "batch_size = 64\n",
        "\n",
        "history = model3.fit(X_train, Y_train, epochs=epochs, batch_size=batch_size,validation_split=0.1,callbacks=[EarlyStopping(monitor='val_loss', patience=3, min_delta=0.0001)])"
      ],
      "execution_count": null,
      "outputs": [
        {
          "output_type": "stream",
          "text": [
            "Train on 2016 samples, validate on 225 samples\n",
            "Epoch 1/5\n",
            "2016/2016 [==============================] - 78s 39ms/step - loss: 1.5020 - accuracy: 0.5570 - val_loss: 1.3274 - val_accuracy: 0.5867\n",
            "Epoch 2/5\n",
            "2016/2016 [==============================] - 78s 39ms/step - loss: 1.3952 - accuracy: 0.5570 - val_loss: 1.3244 - val_accuracy: 0.5867\n",
            "Epoch 3/5\n",
            "2016/2016 [==============================] - 77s 38ms/step - loss: 1.3898 - accuracy: 0.5570 - val_loss: 1.3343 - val_accuracy: 0.5867\n",
            "Epoch 4/5\n",
            "2016/2016 [==============================] - 78s 39ms/step - loss: 1.3719 - accuracy: 0.5570 - val_loss: 1.3189 - val_accuracy: 0.5867\n",
            "Epoch 5/5\n",
            "2016/2016 [==============================] - 78s 39ms/step - loss: 1.3500 - accuracy: 0.5570 - val_loss: 1.3246 - val_accuracy: 0.5867\n"
          ],
          "name": "stdout"
        }
      ]
    },
    {
      "cell_type": "code",
      "metadata": {
        "id": "PMp8AVNobtYh",
        "colab_type": "code",
        "colab": {}
      },
      "source": [
        "# Using  Un-Supervised Text Clustering\n",
        "from sklearn.feature_extraction.text import TfidfVectorizer\n",
        "from sklearn.cluster import KMeans"
      ],
      "execution_count": null,
      "outputs": []
    },
    {
      "cell_type": "code",
      "metadata": {
        "id": "_M6c4OaZN4vk",
        "colab_type": "code",
        "colab": {}
      },
      "source": [
        "# Total Corpus\n",
        "document  = ''\n",
        "for i in df['text_long']:\n",
        "  document += i"
      ],
      "execution_count": null,
      "outputs": []
    },
    {
      "cell_type": "code",
      "metadata": {
        "id": "FtAHI8oxOUaZ",
        "colab_type": "code",
        "colab": {}
      },
      "source": [
        "vectorizer = TfidfVectorizer(stop_words = 'english')"
      ],
      "execution_count": null,
      "outputs": []
    },
    {
      "cell_type": "code",
      "metadata": {
        "id": "TFWB1_RNOWBa",
        "colab_type": "code",
        "colab": {}
      },
      "source": [
        "x = vectorizer.fit_transform(df['text_long'])"
      ],
      "execution_count": null,
      "outputs": []
    },
    {
      "cell_type": "code",
      "metadata": {
        "id": "68DOIsy9Rwwv",
        "colab_type": "code",
        "colab": {
          "base_uri": "https://localhost:8080/",
          "height": 68
        },
        "outputId": "592c3034-a482-4b7c-b544-308a707c6b5f"
      },
      "source": [
        "true_k = 8\n",
        "model = KMeans(n_clusters = true_k , init = 'k-means++' , max_iter = 100 , n_init =1 )\n",
        "model.fit(x)"
      ],
      "execution_count": null,
      "outputs": [
        {
          "output_type": "execute_result",
          "data": {
            "text/plain": [
              "KMeans(algorithm='auto', copy_x=True, init='k-means++', max_iter=100,\n",
              "       n_clusters=8, n_init=1, n_jobs=None, precompute_distances='auto',\n",
              "       random_state=None, tol=0.0001, verbose=0)"
            ]
          },
          "metadata": {
            "tags": []
          },
          "execution_count": 76
        }
      ]
    },
    {
      "cell_type": "code",
      "metadata": {
        "id": "NAvX0rf_SLva",
        "colab_type": "code",
        "colab": {}
      },
      "source": [
        "order_centroids = model.cluster_centers_.argsort()[:, ::-1]\n",
        "terms = vectorizer.get_feature_names()"
      ],
      "execution_count": null,
      "outputs": []
    },
    {
      "cell_type": "code",
      "metadata": {
        "id": "lmJ2V_DbSQt4",
        "colab_type": "code",
        "colab": {
          "base_uri": "https://localhost:8080/",
          "height": 34
        },
        "outputId": "cf7eafb8-cbe7-4363-c381-d30dd3b4b9d6"
      },
      "source": [
        "len(terms)"
      ],
      "execution_count": null,
      "outputs": [
        {
          "output_type": "execute_result",
          "data": {
            "text/plain": [
              "8054"
            ]
          },
          "metadata": {
            "tags": []
          },
          "execution_count": 78
        }
      ]
    },
    {
      "cell_type": "code",
      "metadata": {
        "id": "Ki8cOwJMSSPU",
        "colab_type": "code",
        "colab": {
          "base_uri": "https://localhost:8080/",
          "height": 34
        },
        "outputId": "6c446189-c8d6-446f-d7b3-69773e315582"
      },
      "source": [
        "X = vectorizer.transform([\"Covid 19 was very brutal with me\"])\n",
        "predicted = model.predict(X)\n",
        "print(predicted)"
      ],
      "execution_count": null,
      "outputs": [
        {
          "output_type": "stream",
          "text": [
            "[1]\n"
          ],
          "name": "stdout"
        }
      ]
    },
    {
      "cell_type": "code",
      "metadata": {
        "id": "8CangKzSTyJF",
        "colab_type": "code",
        "colab": {
          "base_uri": "https://localhost:8080/",
          "height": 34
        },
        "outputId": "fa444c18-0d44-4330-cb11-799e672e031e"
      },
      "source": [
        "X = vectorizer.transform([\"lockdown was  beneficial \"])\n",
        "predicted = model.predict(X)\n",
        "print(predicted)"
      ],
      "execution_count": null,
      "outputs": [
        {
          "output_type": "stream",
          "text": [
            "[1]\n"
          ],
          "name": "stdout"
        }
      ]
    },
    {
      "cell_type": "code",
      "metadata": {
        "id": "pYa2UMjvWOxg",
        "colab_type": "code",
        "colab": {}
      },
      "source": [
        "# For short text\n",
        "df['text_short'] = df['text_short'].apply(clean_text)\n",
        "df['text_short'] = df['text_short'].str.replace('\\d+' ,' ')\n"
      ],
      "execution_count": null,
      "outputs": []
    },
    {
      "cell_type": "code",
      "metadata": {
        "id": "hZAc4oIqcgXF",
        "colab_type": "code",
        "colab": {
          "base_uri": "https://localhost:8080/",
          "height": 34
        },
        "outputId": "9ec8d188-b1dd-462f-a3df-82fbd0a721ff"
      },
      "source": [
        "tokenizer = Tokenizer(num_words=MAX_NB_WORDS, filters='!\"#$%&()*+,-./:;<=>?@[\\]^_`{|}~', lower=True)\n",
        "tokenizer.fit_on_texts(df['text_short'].values)\n",
        "word_index = tokenizer.word_index\n",
        "print('Found %s unique tokens.' % len(word_index))"
      ],
      "execution_count": null,
      "outputs": [
        {
          "output_type": "stream",
          "text": [
            "Found 4245 unique tokens.\n"
          ],
          "name": "stdout"
        }
      ]
    },
    {
      "cell_type": "code",
      "metadata": {
        "id": "6pK4EM_5cmYg",
        "colab_type": "code",
        "colab": {
          "base_uri": "https://localhost:8080/",
          "height": 34
        },
        "outputId": "183239cd-f1f5-495e-d9c2-a9078bee9c40"
      },
      "source": [
        "X = tokenizer.texts_to_sequences(df['text_short'].values)\n",
        "X = pad_sequences(X, maxlen=MAX_SEQUENCE_LENGTH)\n",
        "print('Shape of data tensor:', X.shape)"
      ],
      "execution_count": null,
      "outputs": [
        {
          "output_type": "stream",
          "text": [
            "Shape of data tensor: (2491, 500)\n"
          ],
          "name": "stdout"
        }
      ]
    },
    {
      "cell_type": "code",
      "metadata": {
        "id": "H4mNV_Tvcsge",
        "colab_type": "code",
        "colab": {
          "base_uri": "https://localhost:8080/",
          "height": 34
        },
        "outputId": "74332d13-272b-4beb-b3a8-0fff7e95f68f"
      },
      "source": [
        "Y = pd.get_dummies(df['chosen_emotion']).values\n",
        "print('Shape of label tensor:', Y.shape)"
      ],
      "execution_count": null,
      "outputs": [
        {
          "output_type": "stream",
          "text": [
            "Shape of label tensor: (2491, 8)\n"
          ],
          "name": "stdout"
        }
      ]
    },
    {
      "cell_type": "code",
      "metadata": {
        "id": "6sT9_gowcu9U",
        "colab_type": "code",
        "colab": {
          "base_uri": "https://localhost:8080/",
          "height": 51
        },
        "outputId": "9d792de5-25ba-4bad-e304-d1d2e2bbf3c8"
      },
      "source": [
        "X_train, X_test, Y_train, Y_test = train_test_split(X,Y, test_size = 0.10, random_state = 42)\n",
        "print(X_train.shape,Y_train.shape)\n",
        "print(X_test.shape,Y_test.shape)"
      ],
      "execution_count": null,
      "outputs": [
        {
          "output_type": "stream",
          "text": [
            "(2241, 500) (2241, 8)\n",
            "(250, 500) (250, 8)\n"
          ],
          "name": "stdout"
        }
      ]
    },
    {
      "cell_type": "code",
      "metadata": {
        "id": "yrHihGMUcyyY",
        "colab_type": "code",
        "colab": {
          "base_uri": "https://localhost:8080/",
          "height": 306
        },
        "outputId": "b6bcbeed-5212-41e2-f049-74810bedb302"
      },
      "source": [
        "#LSTM Model\n",
        "\n",
        "model = Sequential()\n",
        "model.add(Embedding(MAX_NB_WORDS, EMBEDDING_DIM, input_length=X.shape[1]))\n",
        "model.add(SpatialDropout1D(0.2))\n",
        "model.add(LSTM(200, dropout=0.2, recurrent_dropout=0.2))\n",
        "model.add(Dense(8, activation='softmax'))\n",
        "model.compile(loss='categorical_crossentropy', optimizer='adam', metrics=['accuracy'])\n",
        "print(model.summary())"
      ],
      "execution_count": null,
      "outputs": [
        {
          "output_type": "stream",
          "text": [
            "Model: \"sequential_3\"\n",
            "_________________________________________________________________\n",
            "Layer (type)                 Output Shape              Param #   \n",
            "=================================================================\n",
            "embedding_3 (Embedding)      (None, 500, 100)          200000    \n",
            "_________________________________________________________________\n",
            "spatial_dropout1d_3 (Spatial (None, 500, 100)          0         \n",
            "_________________________________________________________________\n",
            "lstm_2 (LSTM)                (None, 200)               240800    \n",
            "_________________________________________________________________\n",
            "dense_3 (Dense)              (None, 8)                 1608      \n",
            "=================================================================\n",
            "Total params: 442,408\n",
            "Trainable params: 442,408\n",
            "Non-trainable params: 0\n",
            "_________________________________________________________________\n",
            "None\n"
          ],
          "name": "stdout"
        }
      ]
    },
    {
      "cell_type": "code",
      "metadata": {
        "id": "UgYzFinAc3bL",
        "colab_type": "code",
        "colab": {
          "base_uri": "https://localhost:8080/",
          "height": 204
        },
        "outputId": "01bc6d3e-30a5-49ef-92b5-4dd92196522d"
      },
      "source": [
        "epochs = 10\n",
        "batch_size = 64\n",
        "\n",
        "history = model.fit(X_train, Y_train, epochs=epochs, batch_size=batch_size,validation_split=0.1,callbacks=[EarlyStopping(monitor='val_loss', patience=3, min_delta=0.0001)])"
      ],
      "execution_count": null,
      "outputs": [
        {
          "output_type": "stream",
          "text": [
            "/usr/local/lib/python3.6/dist-packages/tensorflow/python/framework/indexed_slices.py:434: UserWarning: Converting sparse IndexedSlices to a dense Tensor of unknown shape. This may consume a large amount of memory.\n",
            "  \"Converting sparse IndexedSlices to a dense Tensor of unknown shape. \"\n"
          ],
          "name": "stderr"
        },
        {
          "output_type": "stream",
          "text": [
            "Train on 2016 samples, validate on 225 samples\n",
            "Epoch 1/10\n",
            "2016/2016 [==============================] - 31s 15ms/step - loss: 1.5145 - accuracy: 0.5407 - val_loss: 1.3177 - val_accuracy: 0.5867\n",
            "Epoch 2/10\n",
            "2016/2016 [==============================] - 30s 15ms/step - loss: 1.3748 - accuracy: 0.5570 - val_loss: 1.3408 - val_accuracy: 0.5867\n",
            "Epoch 3/10\n",
            "2016/2016 [==============================] - 30s 15ms/step - loss: 1.3625 - accuracy: 0.5570 - val_loss: 1.3213 - val_accuracy: 0.5867\n",
            "Epoch 4/10\n",
            "2016/2016 [==============================] - 30s 15ms/step - loss: 1.3346 - accuracy: 0.5570 - val_loss: 1.3381 - val_accuracy: 0.5867\n"
          ],
          "name": "stdout"
        }
      ]
    },
    {
      "cell_type": "code",
      "metadata": {
        "id": "8WTSpQ6Uc7JR",
        "colab_type": "code",
        "colab": {
          "base_uri": "https://localhost:8080/",
          "height": 34
        },
        "outputId": "b8c08afb-0590-4d80-ce05-78234a338660"
      },
      "source": [
        "accr = model.evaluate(X_test, Y_test)"
      ],
      "execution_count": null,
      "outputs": [
        {
          "output_type": "stream",
          "text": [
            "250/250 [==============================] - 1s 2ms/step\n"
          ],
          "name": "stdout"
        }
      ]
    },
    {
      "cell_type": "code",
      "metadata": {
        "id": "0foiX4BTduO0",
        "colab_type": "code",
        "colab": {
          "base_uri": "https://localhost:8080/",
          "height": 34
        },
        "outputId": "be106bde-a32a-42be-f45a-36cdba431c65"
      },
      "source": [
        "accr"
      ],
      "execution_count": null,
      "outputs": [
        {
          "output_type": "execute_result",
          "data": {
            "text/plain": [
              "[1.540956498146057, 0.5040000081062317]"
            ]
          },
          "metadata": {
            "tags": []
          },
          "execution_count": 92
        }
      ]
    },
    {
      "cell_type": "code",
      "metadata": {
        "id": "EoMV7b2pdvrq",
        "colab_type": "code",
        "colab": {}
      },
      "source": [
        "from sklearn.metrics import classification_report"
      ],
      "execution_count": null,
      "outputs": []
    },
    {
      "cell_type": "code",
      "metadata": {
        "id": "FmPEBlTjd8Kf",
        "colab_type": "code",
        "colab": {}
      },
      "source": [
        "ypred = model.predict(X_test)"
      ],
      "execution_count": null,
      "outputs": []
    },
    {
      "cell_type": "code",
      "metadata": {
        "id": "2nlJnBj0eBQV",
        "colab_type": "code",
        "colab": {}
      },
      "source": [
        "# Making Classes\n",
        "for i in range(len(ypred)):\n",
        "  max_pos = np.argmax(ypred[i])\n",
        "  for j in range(len(ypred[i])):\n",
        "    if j == max_pos:\n",
        "      ypred[i][j] = 1\n",
        "    else:\n",
        "      ypred[i][j] = 0\n"
      ],
      "execution_count": null,
      "outputs": []
    },
    {
      "cell_type": "code",
      "metadata": {
        "id": "-g4Alss_eDMc",
        "colab_type": "code",
        "colab": {}
      },
      "source": [
        "target_names= ['class0' , 'class1' , 'class2' , 'class3' ,'class4' , 'class5' , 'class6' , 'class7']"
      ],
      "execution_count": null,
      "outputs": []
    },
    {
      "cell_type": "code",
      "metadata": {
        "id": "DEQGrdTQf_-S",
        "colab_type": "code",
        "colab": {
          "base_uri": "https://localhost:8080/",
          "height": 306
        },
        "outputId": "9ed8e299-d6c2-4409-aea4-32b4fe01b390"
      },
      "source": [
        "print(classification_report(Y_test, ypred, target_names=target_names))"
      ],
      "execution_count": null,
      "outputs": [
        {
          "output_type": "error",
          "ename": "ValueError",
          "evalue": "ignored",
          "traceback": [
            "\u001b[0;31m---------------------------------------------------------------------------\u001b[0m",
            "\u001b[0;31mValueError\u001b[0m                                Traceback (most recent call last)",
            "\u001b[0;32m<ipython-input-106-78336adb9f25>\u001b[0m in \u001b[0;36m<module>\u001b[0;34m()\u001b[0m\n\u001b[0;32m----> 1\u001b[0;31m \u001b[0mprint\u001b[0m\u001b[0;34m(\u001b[0m\u001b[0mclassification_report\u001b[0m\u001b[0;34m(\u001b[0m\u001b[0mY_test\u001b[0m\u001b[0;34m,\u001b[0m \u001b[0mypred\u001b[0m\u001b[0;34m,\u001b[0m \u001b[0mtarget_names\u001b[0m\u001b[0;34m=\u001b[0m\u001b[0mtarget_names\u001b[0m\u001b[0;34m)\u001b[0m\u001b[0;34m)\u001b[0m\u001b[0;34m\u001b[0m\u001b[0;34m\u001b[0m\u001b[0m\n\u001b[0m",
            "\u001b[0;32m/usr/local/lib/python3.6/dist-packages/sklearn/metrics/_classification.py\u001b[0m in \u001b[0;36mclassification_report\u001b[0;34m(y_true, y_pred, labels, target_names, sample_weight, digits, output_dict, zero_division)\u001b[0m\n\u001b[1;32m   1969\u001b[0m     \"\"\"\n\u001b[1;32m   1970\u001b[0m \u001b[0;34m\u001b[0m\u001b[0m\n\u001b[0;32m-> 1971\u001b[0;31m     \u001b[0my_type\u001b[0m\u001b[0;34m,\u001b[0m \u001b[0my_true\u001b[0m\u001b[0;34m,\u001b[0m \u001b[0my_pred\u001b[0m \u001b[0;34m=\u001b[0m \u001b[0m_check_targets\u001b[0m\u001b[0;34m(\u001b[0m\u001b[0my_true\u001b[0m\u001b[0;34m,\u001b[0m \u001b[0my_pred\u001b[0m\u001b[0;34m)\u001b[0m\u001b[0;34m\u001b[0m\u001b[0;34m\u001b[0m\u001b[0m\n\u001b[0m\u001b[1;32m   1972\u001b[0m \u001b[0;34m\u001b[0m\u001b[0m\n\u001b[1;32m   1973\u001b[0m     \u001b[0mlabels_given\u001b[0m \u001b[0;34m=\u001b[0m \u001b[0;32mTrue\u001b[0m\u001b[0;34m\u001b[0m\u001b[0;34m\u001b[0m\u001b[0m\n",
            "\u001b[0;32m/usr/local/lib/python3.6/dist-packages/sklearn/metrics/_classification.py\u001b[0m in \u001b[0;36m_check_targets\u001b[0;34m(y_true, y_pred)\u001b[0m\n\u001b[1;32m     88\u001b[0m     \u001b[0;32mif\u001b[0m \u001b[0mlen\u001b[0m\u001b[0;34m(\u001b[0m\u001b[0my_type\u001b[0m\u001b[0;34m)\u001b[0m \u001b[0;34m>\u001b[0m \u001b[0;36m1\u001b[0m\u001b[0;34m:\u001b[0m\u001b[0;34m\u001b[0m\u001b[0;34m\u001b[0m\u001b[0m\n\u001b[1;32m     89\u001b[0m         raise ValueError(\"Classification metrics can't handle a mix of {0} \"\n\u001b[0;32m---> 90\u001b[0;31m                          \"and {1} targets\".format(type_true, type_pred))\n\u001b[0m\u001b[1;32m     91\u001b[0m \u001b[0;34m\u001b[0m\u001b[0m\n\u001b[1;32m     92\u001b[0m     \u001b[0;31m# We can't have more than one value on y_type => The set is no more needed\u001b[0m\u001b[0;34m\u001b[0m\u001b[0;34m\u001b[0m\u001b[0;34m\u001b[0m\u001b[0m\n",
            "\u001b[0;31mValueError\u001b[0m: Classification metrics can't handle a mix of multilabel-indicator and continuous-multioutput targets"
          ]
        }
      ]
    },
    {
      "cell_type": "code",
      "metadata": {
        "id": "-rMOcmeagRqO",
        "colab_type": "code",
        "colab": {}
      },
      "source": [
        ""
      ],
      "execution_count": null,
      "outputs": []
    }
  ]
}