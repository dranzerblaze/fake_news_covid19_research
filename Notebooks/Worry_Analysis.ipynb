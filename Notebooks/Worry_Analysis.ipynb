{
  "nbformat": 4,
  "nbformat_minor": 0,
  "metadata": {
    "colab": {
      "name": "Worry Analysis",
      "provenance": [],
      "toc_visible": true
    },
    "kernelspec": {
      "name": "python3",
      "display_name": "Python 3"
    }
  },
  "cells": [
    {
      "cell_type": "markdown",
      "metadata": {
        "id": "PBnsfPgNiZwU",
        "colab_type": "text"
      },
      "source": [
        "# **Descriptive Statistics**"
      ]
    },
    {
      "cell_type": "code",
      "metadata": {
        "id": "_AwX8zKpioIb",
        "colab_type": "code",
        "colab": {
          "resources": {
            "http://localhost:8080/nbextensions/google.colab/files.js": {
              "data": "Ly8gQ29weXJpZ2h0IDIwMTcgR29vZ2xlIExMQwovLwovLyBMaWNlbnNlZCB1bmRlciB0aGUgQXBhY2hlIExpY2Vuc2UsIFZlcnNpb24gMi4wICh0aGUgIkxpY2Vuc2UiKTsKLy8geW91IG1heSBub3QgdXNlIHRoaXMgZmlsZSBleGNlcHQgaW4gY29tcGxpYW5jZSB3aXRoIHRoZSBMaWNlbnNlLgovLyBZb3UgbWF5IG9idGFpbiBhIGNvcHkgb2YgdGhlIExpY2Vuc2UgYXQKLy8KLy8gICAgICBodHRwOi8vd3d3LmFwYWNoZS5vcmcvbGljZW5zZXMvTElDRU5TRS0yLjAKLy8KLy8gVW5sZXNzIHJlcXVpcmVkIGJ5IGFwcGxpY2FibGUgbGF3IG9yIGFncmVlZCB0byBpbiB3cml0aW5nLCBzb2Z0d2FyZQovLyBkaXN0cmlidXRlZCB1bmRlciB0aGUgTGljZW5zZSBpcyBkaXN0cmlidXRlZCBvbiBhbiAiQVMgSVMiIEJBU0lTLAovLyBXSVRIT1VUIFdBUlJBTlRJRVMgT1IgQ09ORElUSU9OUyBPRiBBTlkgS0lORCwgZWl0aGVyIGV4cHJlc3Mgb3IgaW1wbGllZC4KLy8gU2VlIHRoZSBMaWNlbnNlIGZvciB0aGUgc3BlY2lmaWMgbGFuZ3VhZ2UgZ292ZXJuaW5nIHBlcm1pc3Npb25zIGFuZAovLyBsaW1pdGF0aW9ucyB1bmRlciB0aGUgTGljZW5zZS4KCi8qKgogKiBAZmlsZW92ZXJ2aWV3IEhlbHBlcnMgZm9yIGdvb2dsZS5jb2xhYiBQeXRob24gbW9kdWxlLgogKi8KKGZ1bmN0aW9uKHNjb3BlKSB7CmZ1bmN0aW9uIHNwYW4odGV4dCwgc3R5bGVBdHRyaWJ1dGVzID0ge30pIHsKICBjb25zdCBlbGVtZW50ID0gZG9jdW1lbnQuY3JlYXRlRWxlbWVudCgnc3BhbicpOwogIGVsZW1lbnQudGV4dENvbnRlbnQgPSB0ZXh0OwogIGZvciAoY29uc3Qga2V5IG9mIE9iamVjdC5rZXlzKHN0eWxlQXR0cmlidXRlcykpIHsKICAgIGVsZW1lbnQuc3R5bGVba2V5XSA9IHN0eWxlQXR0cmlidXRlc1trZXldOwogIH0KICByZXR1cm4gZWxlbWVudDsKfQoKLy8gTWF4IG51bWJlciBvZiBieXRlcyB3aGljaCB3aWxsIGJlIHVwbG9hZGVkIGF0IGEgdGltZS4KY29uc3QgTUFYX1BBWUxPQURfU0laRSA9IDEwMCAqIDEwMjQ7CgpmdW5jdGlvbiBfdXBsb2FkRmlsZXMoaW5wdXRJZCwgb3V0cHV0SWQpIHsKICBjb25zdCBzdGVwcyA9IHVwbG9hZEZpbGVzU3RlcChpbnB1dElkLCBvdXRwdXRJZCk7CiAgY29uc3Qgb3V0cHV0RWxlbWVudCA9IGRvY3VtZW50LmdldEVsZW1lbnRCeUlkKG91dHB1dElkKTsKICAvLyBDYWNoZSBzdGVwcyBvbiB0aGUgb3V0cHV0RWxlbWVudCB0byBtYWtlIGl0IGF2YWlsYWJsZSBmb3IgdGhlIG5leHQgY2FsbAogIC8vIHRvIHVwbG9hZEZpbGVzQ29udGludWUgZnJvbSBQeXRob24uCiAgb3V0cHV0RWxlbWVudC5zdGVwcyA9IHN0ZXBzOwoKICByZXR1cm4gX3VwbG9hZEZpbGVzQ29udGludWUob3V0cHV0SWQpOwp9CgovLyBUaGlzIGlzIHJvdWdobHkgYW4gYXN5bmMgZ2VuZXJhdG9yIChub3Qgc3VwcG9ydGVkIGluIHRoZSBicm93c2VyIHlldCksCi8vIHdoZXJlIHRoZXJlIGFyZSBtdWx0aXBsZSBhc3luY2hyb25vdXMgc3RlcHMgYW5kIHRoZSBQeXRob24gc2lkZSBpcyBnb2luZwovLyB0byBwb2xsIGZvciBjb21wbGV0aW9uIG9mIGVhY2ggc3RlcC4KLy8gVGhpcyB1c2VzIGEgUHJvbWlzZSB0byBibG9jayB0aGUgcHl0aG9uIHNpZGUgb24gY29tcGxldGlvbiBvZiBlYWNoIHN0ZXAsCi8vIHRoZW4gcGFzc2VzIHRoZSByZXN1bHQgb2YgdGhlIHByZXZpb3VzIHN0ZXAgYXMgdGhlIGlucHV0IHRvIHRoZSBuZXh0IHN0ZXAuCmZ1bmN0aW9uIF91cGxvYWRGaWxlc0NvbnRpbnVlKG91dHB1dElkKSB7CiAgY29uc3Qgb3V0cHV0RWxlbWVudCA9IGRvY3VtZW50LmdldEVsZW1lbnRCeUlkKG91dHB1dElkKTsKICBjb25zdCBzdGVwcyA9IG91dHB1dEVsZW1lbnQuc3RlcHM7CgogIGNvbnN0IG5leHQgPSBzdGVwcy5uZXh0KG91dHB1dEVsZW1lbnQubGFzdFByb21pc2VWYWx1ZSk7CiAgcmV0dXJuIFByb21pc2UucmVzb2x2ZShuZXh0LnZhbHVlLnByb21pc2UpLnRoZW4oKHZhbHVlKSA9PiB7CiAgICAvLyBDYWNoZSB0aGUgbGFzdCBwcm9taXNlIHZhbHVlIHRvIG1ha2UgaXQgYXZhaWxhYmxlIHRvIHRoZSBuZXh0CiAgICAvLyBzdGVwIG9mIHRoZSBnZW5lcmF0b3IuCiAgICBvdXRwdXRFbGVtZW50Lmxhc3RQcm9taXNlVmFsdWUgPSB2YWx1ZTsKICAgIHJldHVybiBuZXh0LnZhbHVlLnJlc3BvbnNlOwogIH0pOwp9CgovKioKICogR2VuZXJhdG9yIGZ1bmN0aW9uIHdoaWNoIGlzIGNhbGxlZCBiZXR3ZWVuIGVhY2ggYXN5bmMgc3RlcCBvZiB0aGUgdXBsb2FkCiAqIHByb2Nlc3MuCiAqIEBwYXJhbSB7c3RyaW5nfSBpbnB1dElkIEVsZW1lbnQgSUQgb2YgdGhlIGlucHV0IGZpbGUgcGlja2VyIGVsZW1lbnQuCiAqIEBwYXJhbSB7c3RyaW5nfSBvdXRwdXRJZCBFbGVtZW50IElEIG9mIHRoZSBvdXRwdXQgZGlzcGxheS4KICogQHJldHVybiB7IUl0ZXJhYmxlPCFPYmplY3Q+fSBJdGVyYWJsZSBvZiBuZXh0IHN0ZXBzLgogKi8KZnVuY3Rpb24qIHVwbG9hZEZpbGVzU3RlcChpbnB1dElkLCBvdXRwdXRJZCkgewogIGNvbnN0IGlucHV0RWxlbWVudCA9IGRvY3VtZW50LmdldEVsZW1lbnRCeUlkKGlucHV0SWQpOwogIGlucHV0RWxlbWVudC5kaXNhYmxlZCA9IGZhbHNlOwoKICBjb25zdCBvdXRwdXRFbGVtZW50ID0gZG9jdW1lbnQuZ2V0RWxlbWVudEJ5SWQob3V0cHV0SWQpOwogIG91dHB1dEVsZW1lbnQuaW5uZXJIVE1MID0gJyc7CgogIGNvbnN0IHBpY2tlZFByb21pc2UgPSBuZXcgUHJvbWlzZSgocmVzb2x2ZSkgPT4gewogICAgaW5wdXRFbGVtZW50LmFkZEV2ZW50TGlzdGVuZXIoJ2NoYW5nZScsIChlKSA9PiB7CiAgICAgIHJlc29sdmUoZS50YXJnZXQuZmlsZXMpOwogICAgfSk7CiAgfSk7CgogIGNvbnN0IGNhbmNlbCA9IGRvY3VtZW50LmNyZWF0ZUVsZW1lbnQoJ2J1dHRvbicpOwogIGlucHV0RWxlbWVudC5wYXJlbnRFbGVtZW50LmFwcGVuZENoaWxkKGNhbmNlbCk7CiAgY2FuY2VsLnRleHRDb250ZW50ID0gJ0NhbmNlbCB1cGxvYWQnOwogIGNvbnN0IGNhbmNlbFByb21pc2UgPSBuZXcgUHJvbWlzZSgocmVzb2x2ZSkgPT4gewogICAgY2FuY2VsLm9uY2xpY2sgPSAoKSA9PiB7CiAgICAgIHJlc29sdmUobnVsbCk7CiAgICB9OwogIH0pOwoKICAvLyBXYWl0IGZvciB0aGUgdXNlciB0byBwaWNrIHRoZSBmaWxlcy4KICBjb25zdCBmaWxlcyA9IHlpZWxkIHsKICAgIHByb21pc2U6IFByb21pc2UucmFjZShbcGlja2VkUHJvbWlzZSwgY2FuY2VsUHJvbWlzZV0pLAogICAgcmVzcG9uc2U6IHsKICAgICAgYWN0aW9uOiAnc3RhcnRpbmcnLAogICAgfQogIH07CgogIGNhbmNlbC5yZW1vdmUoKTsKCiAgLy8gRGlzYWJsZSB0aGUgaW5wdXQgZWxlbWVudCBzaW5jZSBmdXJ0aGVyIHBpY2tzIGFyZSBub3QgYWxsb3dlZC4KICBpbnB1dEVsZW1lbnQuZGlzYWJsZWQgPSB0cnVlOwoKICBpZiAoIWZpbGVzKSB7CiAgICByZXR1cm4gewogICAgICByZXNwb25zZTogewogICAgICAgIGFjdGlvbjogJ2NvbXBsZXRlJywKICAgICAgfQogICAgfTsKICB9CgogIGZvciAoY29uc3QgZmlsZSBvZiBmaWxlcykgewogICAgY29uc3QgbGkgPSBkb2N1bWVudC5jcmVhdGVFbGVtZW50KCdsaScpOwogICAgbGkuYXBwZW5kKHNwYW4oZmlsZS5uYW1lLCB7Zm9udFdlaWdodDogJ2JvbGQnfSkpOwogICAgbGkuYXBwZW5kKHNwYW4oCiAgICAgICAgYCgke2ZpbGUudHlwZSB8fCAnbi9hJ30pIC0gJHtmaWxlLnNpemV9IGJ5dGVzLCBgICsKICAgICAgICBgbGFzdCBtb2RpZmllZDogJHsKICAgICAgICAgICAgZmlsZS5sYXN0TW9kaWZpZWREYXRlID8gZmlsZS5sYXN0TW9kaWZpZWREYXRlLnRvTG9jYWxlRGF0ZVN0cmluZygpIDoKICAgICAgICAgICAgICAgICAgICAgICAgICAgICAgICAgICAgJ24vYSd9IC0gYCkpOwogICAgY29uc3QgcGVyY2VudCA9IHNwYW4oJzAlIGRvbmUnKTsKICAgIGxpLmFwcGVuZENoaWxkKHBlcmNlbnQpOwoKICAgIG91dHB1dEVsZW1lbnQuYXBwZW5kQ2hpbGQobGkpOwoKICAgIGNvbnN0IGZpbGVEYXRhUHJvbWlzZSA9IG5ldyBQcm9taXNlKChyZXNvbHZlKSA9PiB7CiAgICAgIGNvbnN0IHJlYWRlciA9IG5ldyBGaWxlUmVhZGVyKCk7CiAgICAgIHJlYWRlci5vbmxvYWQgPSAoZSkgPT4gewogICAgICAgIHJlc29sdmUoZS50YXJnZXQucmVzdWx0KTsKICAgICAgfTsKICAgICAgcmVhZGVyLnJlYWRBc0FycmF5QnVmZmVyKGZpbGUpOwogICAgfSk7CiAgICAvLyBXYWl0IGZvciB0aGUgZGF0YSB0byBiZSByZWFkeS4KICAgIGxldCBmaWxlRGF0YSA9IHlpZWxkIHsKICAgICAgcHJvbWlzZTogZmlsZURhdGFQcm9taXNlLAogICAgICByZXNwb25zZTogewogICAgICAgIGFjdGlvbjogJ2NvbnRpbnVlJywKICAgICAgfQogICAgfTsKCiAgICAvLyBVc2UgYSBjaHVua2VkIHNlbmRpbmcgdG8gYXZvaWQgbWVzc2FnZSBzaXplIGxpbWl0cy4gU2VlIGIvNjIxMTU2NjAuCiAgICBsZXQgcG9zaXRpb24gPSAwOwogICAgd2hpbGUgKHBvc2l0aW9uIDwgZmlsZURhdGEuYnl0ZUxlbmd0aCkgewogICAgICBjb25zdCBsZW5ndGggPSBNYXRoLm1pbihmaWxlRGF0YS5ieXRlTGVuZ3RoIC0gcG9zaXRpb24sIE1BWF9QQVlMT0FEX1NJWkUpOwogICAgICBjb25zdCBjaHVuayA9IG5ldyBVaW50OEFycmF5KGZpbGVEYXRhLCBwb3NpdGlvbiwgbGVuZ3RoKTsKICAgICAgcG9zaXRpb24gKz0gbGVuZ3RoOwoKICAgICAgY29uc3QgYmFzZTY0ID0gYnRvYShTdHJpbmcuZnJvbUNoYXJDb2RlLmFwcGx5KG51bGwsIGNodW5rKSk7CiAgICAgIHlpZWxkIHsKICAgICAgICByZXNwb25zZTogewogICAgICAgICAgYWN0aW9uOiAnYXBwZW5kJywKICAgICAgICAgIGZpbGU6IGZpbGUubmFtZSwKICAgICAgICAgIGRhdGE6IGJhc2U2NCwKICAgICAgICB9LAogICAgICB9OwogICAgICBwZXJjZW50LnRleHRDb250ZW50ID0KICAgICAgICAgIGAke01hdGgucm91bmQoKHBvc2l0aW9uIC8gZmlsZURhdGEuYnl0ZUxlbmd0aCkgKiAxMDApfSUgZG9uZWA7CiAgICB9CiAgfQoKICAvLyBBbGwgZG9uZS4KICB5aWVsZCB7CiAgICByZXNwb25zZTogewogICAgICBhY3Rpb246ICdjb21wbGV0ZScsCiAgICB9CiAgfTsKfQoKc2NvcGUuZ29vZ2xlID0gc2NvcGUuZ29vZ2xlIHx8IHt9OwpzY29wZS5nb29nbGUuY29sYWIgPSBzY29wZS5nb29nbGUuY29sYWIgfHwge307CnNjb3BlLmdvb2dsZS5jb2xhYi5fZmlsZXMgPSB7CiAgX3VwbG9hZEZpbGVzLAogIF91cGxvYWRGaWxlc0NvbnRpbnVlLAp9Owp9KShzZWxmKTsK",
              "ok": true,
              "headers": [
                [
                  "content-type",
                  "application/javascript"
                ]
              ],
              "status": 200,
              "status_text": ""
            }
          },
          "base_uri": "https://localhost:8080/",
          "height": 72
        },
        "outputId": "4fa25d9d-c79e-4a6c-898b-e7a13c6d0642"
      },
      "source": [
        "#upload data_incl_demographics.csv from files_clean\n",
        "from google.colab import files\n",
        "uploaded = files.upload()"
      ],
      "execution_count": null,
      "outputs": [
        {
          "output_type": "display_data",
          "data": {
            "text/html": [
              "\n",
              "     <input type=\"file\" id=\"files-b04d7b04-1481-4150-a54e-6002cf9858f8\" name=\"files[]\" multiple disabled\n",
              "        style=\"border:none\" />\n",
              "     <output id=\"result-b04d7b04-1481-4150-a54e-6002cf9858f8\">\n",
              "      Upload widget is only available when the cell has been executed in the\n",
              "      current browser session. Please rerun this cell to enable.\n",
              "      </output>\n",
              "      <script src=\"/nbextensions/google.colab/files.js\"></script> "
            ],
            "text/plain": [
              "<IPython.core.display.HTML object>"
            ]
          },
          "metadata": {
            "tags": []
          }
        },
        {
          "output_type": "stream",
          "text": [
            "Saving data_incl_demographics.csv to data_incl_demographics.csv\n"
          ],
          "name": "stdout"
        }
      ]
    },
    {
      "cell_type": "markdown",
      "metadata": {
        "id": "Hh1RWTaal2B8",
        "colab_type": "text"
      },
      "source": [
        "**bold text**# Analysis of Text"
      ]
    },
    {
      "cell_type": "code",
      "metadata": {
        "id": "h8IJi76OlyHA",
        "colab_type": "code",
        "colab": {}
      },
      "source": [
        "#importing only\n",
        "import pandas as pd\n",
        "import spacy\n",
        "from sklearn.feature_extraction.text import CountVectorizer\n"
      ],
      "execution_count": null,
      "outputs": []
    },
    {
      "cell_type": "code",
      "metadata": {
        "id": "QC7sau5ymrw2",
        "colab_type": "code",
        "colab": {}
      },
      "source": [
        "rwwd_full=pd.read_csv(\"data_incl_demographics.csv\")"
      ],
      "execution_count": null,
      "outputs": []
    },
    {
      "cell_type": "code",
      "metadata": {
        "id": "DOJpjI-om6bJ",
        "colab_type": "code",
        "colab": {}
      },
      "source": [
        "d=rwwd_full"
      ],
      "execution_count": null,
      "outputs": []
    },
    {
      "cell_type": "code",
      "metadata": {
        "id": "dYRI_C1nm6uh",
        "colab_type": "code",
        "colab": {
          "base_uri": "https://localhost:8080/",
          "height": 632
        },
        "outputId": "a8b4ec5e-1bff-4f21-faf9-4fc386716d60"
      },
      "source": [
        "d.head()"
      ],
      "execution_count": null,
      "outputs": [
        {
          "output_type": "execute_result",
          "data": {
            "text/html": [
              "<div>\n",
              "<style scoped>\n",
              "    .dataframe tbody tr th:only-of-type {\n",
              "        vertical-align: middle;\n",
              "    }\n",
              "\n",
              "    .dataframe tbody tr th {\n",
              "        vertical-align: top;\n",
              "    }\n",
              "\n",
              "    .dataframe thead th {\n",
              "        text-align: right;\n",
              "    }\n",
              "</style>\n",
              "<table border=\"1\" class=\"dataframe\">\n",
              "  <thead>\n",
              "    <tr style=\"text-align: right;\">\n",
              "      <th></th>\n",
              "      <th>Unnamed: 0</th>\n",
              "      <th>V1</th>\n",
              "      <th>worry</th>\n",
              "      <th>chosen_emotion</th>\n",
              "      <th>anger</th>\n",
              "      <th>disgust</th>\n",
              "      <th>fear</th>\n",
              "      <th>anxiety</th>\n",
              "      <th>sadness</th>\n",
              "      <th>happiness</th>\n",
              "      <th>relaxation</th>\n",
              "      <th>desire</th>\n",
              "      <th>text_long</th>\n",
              "      <th>timing_textlong_firstclick</th>\n",
              "      <th>timing_textlong_lastclick</th>\n",
              "      <th>timing_textlong_submit</th>\n",
              "      <th>timing_textlong_nclicks</th>\n",
              "      <th>text_short</th>\n",
              "      <th>timing_textshort_firstclick</th>\n",
              "      <th>timing_textshort_lastclick</th>\n",
              "      <th>timing_textshort_submit</th>\n",
              "      <th>timing_textshort_nclicks</th>\n",
              "      <th>self_rating_general</th>\n",
              "      <th>self_rating_short</th>\n",
              "      <th>self_rating_long</th>\n",
              "      <th>twitter_general_often</th>\n",
              "      <th>twitter_tweet_often</th>\n",
              "      <th>twitter_participate_often</th>\n",
              "      <th>eng_native</th>\n",
              "      <th>ntok_long</th>\n",
              "      <th>nchar_long</th>\n",
              "      <th>ntok_short</th>\n",
              "      <th>nchar_short</th>\n",
              "      <th>cld_lang_long</th>\n",
              "      <th>cld_lang_short</th>\n",
              "      <th>id</th>\n",
              "      <th>n_punct</th>\n",
              "      <th>prop_punct</th>\n",
              "      <th>age</th>\n",
              "      <th>Country of Birth</th>\n",
              "      <th>Current Country of Residence</th>\n",
              "      <th>Employment Status</th>\n",
              "      <th>First Language</th>\n",
              "      <th>Nationality</th>\n",
              "      <th>Sex</th>\n",
              "      <th>Social-Media</th>\n",
              "      <th>Student Status</th>\n",
              "    </tr>\n",
              "  </thead>\n",
              "  <tbody>\n",
              "    <tr>\n",
              "      <th>0</th>\n",
              "      <td>1</td>\n",
              "      <td>1</td>\n",
              "      <td>3</td>\n",
              "      <td>Sadness</td>\n",
              "      <td>5</td>\n",
              "      <td>5</td>\n",
              "      <td>3</td>\n",
              "      <td>7</td>\n",
              "      <td>7</td>\n",
              "      <td>2</td>\n",
              "      <td>4</td>\n",
              "      <td>5</td>\n",
              "      <td>It is less an much an issue of how it affects ...</td>\n",
              "      <td>4.340</td>\n",
              "      <td>150.638</td>\n",
              "      <td>202.320</td>\n",
              "      <td>12</td>\n",
              "      <td>It is very easy! Stay inside so you are not sp...</td>\n",
              "      <td>5.510</td>\n",
              "      <td>5.510</td>\n",
              "      <td>61.123</td>\n",
              "      <td>1</td>\n",
              "      <td>7</td>\n",
              "      <td>7</td>\n",
              "      <td>7</td>\n",
              "      <td>7</td>\n",
              "      <td>1</td>\n",
              "      <td>1</td>\n",
              "      <td>Yes</td>\n",
              "      <td>110</td>\n",
              "      <td>592</td>\n",
              "      <td>40</td>\n",
              "      <td>183</td>\n",
              "      <td>en</td>\n",
              "      <td>en</td>\n",
              "      <td>1815</td>\n",
              "      <td>9</td>\n",
              "      <td>0.02</td>\n",
              "      <td>NaN</td>\n",
              "      <td>NaN</td>\n",
              "      <td>NaN</td>\n",
              "      <td>NaN</td>\n",
              "      <td>NaN</td>\n",
              "      <td>NaN</td>\n",
              "      <td>NaN</td>\n",
              "      <td>NaN</td>\n",
              "      <td>NaN</td>\n",
              "    </tr>\n",
              "    <tr>\n",
              "      <th>1</th>\n",
              "      <td>2</td>\n",
              "      <td>2</td>\n",
              "      <td>8</td>\n",
              "      <td>Anxiety</td>\n",
              "      <td>6</td>\n",
              "      <td>7</td>\n",
              "      <td>7</td>\n",
              "      <td>8</td>\n",
              "      <td>6</td>\n",
              "      <td>4</td>\n",
              "      <td>3</td>\n",
              "      <td>1</td>\n",
              "      <td>I am concerned that the true impact of the cur...</td>\n",
              "      <td>3.924</td>\n",
              "      <td>615.838</td>\n",
              "      <td>621.392</td>\n",
              "      <td>24</td>\n",
              "      <td>Things are difficult now, but we must all pull...</td>\n",
              "      <td>76.067</td>\n",
              "      <td>76.067</td>\n",
              "      <td>78.729</td>\n",
              "      <td>1</td>\n",
              "      <td>9</td>\n",
              "      <td>4</td>\n",
              "      <td>8</td>\n",
              "      <td>6</td>\n",
              "      <td>3</td>\n",
              "      <td>4</td>\n",
              "      <td>Yes</td>\n",
              "      <td>257</td>\n",
              "      <td>1424</td>\n",
              "      <td>43</td>\n",
              "      <td>221</td>\n",
              "      <td>en</td>\n",
              "      <td>en</td>\n",
              "      <td>401</td>\n",
              "      <td>16</td>\n",
              "      <td>0.01</td>\n",
              "      <td>NaN</td>\n",
              "      <td>NaN</td>\n",
              "      <td>NaN</td>\n",
              "      <td>NaN</td>\n",
              "      <td>NaN</td>\n",
              "      <td>NaN</td>\n",
              "      <td>NaN</td>\n",
              "      <td>NaN</td>\n",
              "      <td>NaN</td>\n",
              "    </tr>\n",
              "    <tr>\n",
              "      <th>2</th>\n",
              "      <td>3</td>\n",
              "      <td>3</td>\n",
              "      <td>4</td>\n",
              "      <td>Relaxation</td>\n",
              "      <td>1</td>\n",
              "      <td>1</td>\n",
              "      <td>2</td>\n",
              "      <td>2</td>\n",
              "      <td>4</td>\n",
              "      <td>7</td>\n",
              "      <td>7</td>\n",
              "      <td>2</td>\n",
              "      <td>Personally, I am fairly calm about the corona ...</td>\n",
              "      <td>116.183</td>\n",
              "      <td>734.382</td>\n",
              "      <td>735.286</td>\n",
              "      <td>22</td>\n",
              "      <td>People should try and remain calm, as panic wi...</td>\n",
              "      <td>1345.874</td>\n",
              "      <td>1345.874</td>\n",
              "      <td>1398.381</td>\n",
              "      <td>1</td>\n",
              "      <td>7</td>\n",
              "      <td>6</td>\n",
              "      <td>8</td>\n",
              "      <td>9</td>\n",
              "      <td>2</td>\n",
              "      <td>4</td>\n",
              "      <td>No but I speak it fluently</td>\n",
              "      <td>132</td>\n",
              "      <td>631</td>\n",
              "      <td>15</td>\n",
              "      <td>78</td>\n",
              "      <td>en</td>\n",
              "      <td>en</td>\n",
              "      <td>25</td>\n",
              "      <td>10</td>\n",
              "      <td>0.02</td>\n",
              "      <td>NaN</td>\n",
              "      <td>NaN</td>\n",
              "      <td>NaN</td>\n",
              "      <td>NaN</td>\n",
              "      <td>NaN</td>\n",
              "      <td>NaN</td>\n",
              "      <td>NaN</td>\n",
              "      <td>NaN</td>\n",
              "      <td>NaN</td>\n",
              "    </tr>\n",
              "    <tr>\n",
              "      <th>3</th>\n",
              "      <td>4</td>\n",
              "      <td>4</td>\n",
              "      <td>6</td>\n",
              "      <td>Relaxation</td>\n",
              "      <td>4</td>\n",
              "      <td>2</td>\n",
              "      <td>3</td>\n",
              "      <td>4</td>\n",
              "      <td>1</td>\n",
              "      <td>6</td>\n",
              "      <td>7</td>\n",
              "      <td>3</td>\n",
              "      <td>In this very moment as I am fortunate to be ab...</td>\n",
              "      <td>1.016</td>\n",
              "      <td>137.120</td>\n",
              "      <td>171.076</td>\n",
              "      <td>18</td>\n",
              "      <td>Fortunate to feel calm and relaxed but worried...</td>\n",
              "      <td>3.865</td>\n",
              "      <td>42.945</td>\n",
              "      <td>46.675</td>\n",
              "      <td>4</td>\n",
              "      <td>8</td>\n",
              "      <td>6</td>\n",
              "      <td>9</td>\n",
              "      <td>8</td>\n",
              "      <td>6</td>\n",
              "      <td>3</td>\n",
              "      <td>Yes</td>\n",
              "      <td>132</td>\n",
              "      <td>713</td>\n",
              "      <td>22</td>\n",
              "      <td>141</td>\n",
              "      <td>en</td>\n",
              "      <td>en</td>\n",
              "      <td>1585</td>\n",
              "      <td>12</td>\n",
              "      <td>0.02</td>\n",
              "      <td>28.0</td>\n",
              "      <td>Belgium</td>\n",
              "      <td>United Kingdom</td>\n",
              "      <td>Full-Time</td>\n",
              "      <td>English</td>\n",
              "      <td>France</td>\n",
              "      <td>Female</td>\n",
              "      <td>Facebook, Youtube, Twitter, Linkedin</td>\n",
              "      <td>No</td>\n",
              "    </tr>\n",
              "    <tr>\n",
              "      <th>4</th>\n",
              "      <td>5</td>\n",
              "      <td>5</td>\n",
              "      <td>6</td>\n",
              "      <td>Anxiety</td>\n",
              "      <td>2</td>\n",
              "      <td>2</td>\n",
              "      <td>5</td>\n",
              "      <td>5</td>\n",
              "      <td>5</td>\n",
              "      <td>4</td>\n",
              "      <td>4</td>\n",
              "      <td>4</td>\n",
              "      <td>I am more worried about getting access to my n...</td>\n",
              "      <td>3.084</td>\n",
              "      <td>313.848</td>\n",
              "      <td>317.264</td>\n",
              "      <td>5</td>\n",
              "      <td>Not being able to cuddle my family sucks!</td>\n",
              "      <td>7.762</td>\n",
              "      <td>7.762</td>\n",
              "      <td>25.759</td>\n",
              "      <td>1</td>\n",
              "      <td>8</td>\n",
              "      <td>8</td>\n",
              "      <td>8</td>\n",
              "      <td>9</td>\n",
              "      <td>9</td>\n",
              "      <td>5</td>\n",
              "      <td>Yes</td>\n",
              "      <td>132</td>\n",
              "      <td>662</td>\n",
              "      <td>9</td>\n",
              "      <td>41</td>\n",
              "      <td>en</td>\n",
              "      <td>en</td>\n",
              "      <td>1207</td>\n",
              "      <td>13</td>\n",
              "      <td>0.02</td>\n",
              "      <td>57.0</td>\n",
              "      <td>United Kingdom</td>\n",
              "      <td>United Kingdom</td>\n",
              "      <td>Not in paid work (e.g. homemaker', 'retired or...</td>\n",
              "      <td>English</td>\n",
              "      <td>United Kingdom</td>\n",
              "      <td>Female</td>\n",
              "      <td>Youtube</td>\n",
              "      <td>No</td>\n",
              "    </tr>\n",
              "  </tbody>\n",
              "</table>\n",
              "</div>"
            ],
            "text/plain": [
              "   Unnamed: 0  V1  ...                          Social-Media Student Status\n",
              "0           1   1  ...                                   NaN            NaN\n",
              "1           2   2  ...                                   NaN            NaN\n",
              "2           3   3  ...                                   NaN            NaN\n",
              "3           4   4  ...  Facebook, Youtube, Twitter, Linkedin             No\n",
              "4           5   5  ...                               Youtube             No\n",
              "\n",
              "[5 rows x 47 columns]"
            ]
          },
          "metadata": {
            "tags": []
          },
          "execution_count": 9
        }
      ]
    },
    {
      "cell_type": "code",
      "metadata": {
        "id": "ZMl2K0wEm6q5",
        "colab_type": "code",
        "colab": {}
      },
      "source": [
        "rtl=d['Sex']"
      ],
      "execution_count": null,
      "outputs": []
    },
    {
      "cell_type": "code",
      "metadata": {
        "id": "lW8la9d-m6gs",
        "colab_type": "code",
        "colab": {}
      },
      "source": [
        "ans=0\n",
        "for i in range(rtl.size):\n",
        "  if(rtl.loc[i]=='Female'):\n",
        "     ans=ans+1\n",
        "\n"
      ],
      "execution_count": null,
      "outputs": []
    },
    {
      "cell_type": "code",
      "metadata": {
        "id": "A5jyIUY2rgoM",
        "colab_type": "code",
        "colab": {
          "base_uri": "https://localhost:8080/",
          "height": 136
        },
        "outputId": "8a47f441-b0d3-47f1-bb26-cbc95ed76a6c"
      },
      "source": [
        "d.groupby(by='Sex')['age'].mean()"
      ],
      "execution_count": null,
      "outputs": [
        {
          "output_type": "execute_result",
          "data": {
            "text/plain": [
              "Sex\n",
              "CONSENT REVOKED      43.000000\n",
              "DATA EXPIRED         35.500000\n",
              "Female               33.659062\n",
              "Male                 34.162544\n",
              "Prefer not to say    29.000000\n",
              "Name: age, dtype: float64"
            ]
          },
          "metadata": {
            "tags": []
          },
          "execution_count": 12
        }
      ]
    },
    {
      "cell_type": "code",
      "metadata": {
        "id": "qDt-klrgrgkB",
        "colab_type": "code",
        "colab": {
          "base_uri": "https://localhost:8080/",
          "height": 136
        },
        "outputId": "460132de-556c-4d2b-8814-bf3d1fdc753d"
      },
      "source": [
        "d.groupby(by='Sex')['age'].std()"
      ],
      "execution_count": null,
      "outputs": [
        {
          "output_type": "execute_result",
          "data": {
            "text/plain": [
              "Sex\n",
              "CONSENT REVOKED            NaN\n",
              "DATA EXPIRED         14.849242\n",
              "Female               25.877970\n",
              "Male                 12.088684\n",
              "Prefer not to say          NaN\n",
              "Name: age, dtype: float64"
            ]
          },
          "metadata": {
            "tags": []
          },
          "execution_count": 14
        }
      ]
    },
    {
      "cell_type": "code",
      "metadata": {
        "id": "f9dN9mlkrgfY",
        "colab_type": "code",
        "colab": {
          "base_uri": "https://localhost:8080/",
          "height": 34
        },
        "outputId": "16633a34-922a-483d-90ea-bc261d49b2e5"
      },
      "source": [
        "d['self_rating_general'].mean()"
      ],
      "execution_count": null,
      "outputs": [
        {
          "output_type": "execute_result",
          "data": {
            "text/plain": [
              "6.88398233641108"
            ]
          },
          "metadata": {
            "tags": []
          },
          "execution_count": 15
        }
      ]
    },
    {
      "cell_type": "code",
      "metadata": {
        "id": "f58FGbhrrgaI",
        "colab_type": "code",
        "colab": {
          "base_uri": "https://localhost:8080/",
          "height": 34
        },
        "outputId": "09f738ec-d5db-4b28-b8b5-782b383b2c8f"
      },
      "source": [
        "d['self_rating_general'].std()"
      ],
      "execution_count": null,
      "outputs": [
        {
          "output_type": "execute_result",
          "data": {
            "text/plain": [
              "1.6871199878796912"
            ]
          },
          "metadata": {
            "tags": []
          },
          "execution_count": 16
        }
      ]
    },
    {
      "cell_type": "code",
      "metadata": {
        "id": "Kn7Upovj2FMG",
        "colab_type": "code",
        "colab": {
          "base_uri": "https://localhost:8080/",
          "height": 34
        },
        "outputId": "9beb842f-dc42-4d04-fa60-17a575444f51"
      },
      "source": [
        "d['self_rating_long'].mean()"
      ],
      "execution_count": null,
      "outputs": [
        {
          "output_type": "execute_result",
          "data": {
            "text/plain": [
              "7.119229225210758"
            ]
          },
          "metadata": {
            "tags": []
          },
          "execution_count": 17
        }
      ]
    },
    {
      "cell_type": "code",
      "metadata": {
        "id": "V1ISvgRb2FYS",
        "colab_type": "code",
        "colab": {
          "base_uri": "https://localhost:8080/",
          "height": 34
        },
        "outputId": "3db73f31-8db3-4b9b-9745-5361ec70b8c3"
      },
      "source": [
        "d['self_rating_long'].std()"
      ],
      "execution_count": null,
      "outputs": [
        {
          "output_type": "execute_result",
          "data": {
            "text/plain": [
              "1.783637018031813"
            ]
          },
          "metadata": {
            "tags": []
          },
          "execution_count": 18
        }
      ]
    },
    {
      "cell_type": "code",
      "metadata": {
        "id": "Zi6tBCpL2FiI",
        "colab_type": "code",
        "colab": {
          "base_uri": "https://localhost:8080/",
          "height": 51
        },
        "outputId": "f1d9408f-3259-4ff8-b19f-a4c84ae78cbe"
      },
      "source": [
        "print(d['self_rating_short'].mean())\n",
        "print(d['self_rating_short'].std())\n"
      ],
      "execution_count": null,
      "outputs": [
        {
          "output_type": "stream",
          "text": [
            "5.90726615816941\n",
            "2.1234565367978653\n"
          ],
          "name": "stdout"
        }
      ]
    },
    {
      "cell_type": "code",
      "metadata": {
        "id": "QFpllXDe2a6e",
        "colab_type": "code",
        "colab": {}
      },
      "source": [
        "#bayes_factor\n",
        "\n",
        "#Not done"
      ],
      "execution_count": null,
      "outputs": []
    },
    {
      "cell_type": "code",
      "metadata": {
        "id": "_XTcPXcB3ESD",
        "colab_type": "code",
        "colab": {
          "base_uri": "https://localhost:8080/",
          "height": 51
        },
        "outputId": "8e5c90e3-b91e-4b61-cec7-27f3bd3c6690"
      },
      "source": [
        "print(d['twitter_general_often'].mean())\n",
        "print(d['twitter_general_often'].std())"
      ],
      "execution_count": null,
      "outputs": [
        {
          "output_type": "stream",
          "text": [
            "6.25732637494982\n",
            "2.8047617136835434\n"
          ],
          "name": "stdout"
        }
      ]
    },
    {
      "cell_type": "code",
      "metadata": {
        "id": "dIF8-gCh3Udz",
        "colab_type": "code",
        "colab": {
          "base_uri": "https://localhost:8080/",
          "height": 51
        },
        "outputId": "2f17fb14-df9f-41a7-cd5c-db0faa2f34bf"
      },
      "source": [
        "print(d['twitter_tweet_often'].mean())\n",
        "print(d['twitter_tweet_often'].std())"
      ],
      "execution_count": null,
      "outputs": [
        {
          "output_type": "stream",
          "text": [
            "3.665596146126054\n",
            "2.520951690451767\n"
          ],
          "name": "stdout"
        }
      ]
    },
    {
      "cell_type": "code",
      "metadata": {
        "id": "A19v0UZR3V5C",
        "colab_type": "code",
        "colab": {
          "base_uri": "https://localhost:8080/",
          "height": 51
        },
        "outputId": "160bd8bf-69d7-4c42-81fe-05aebe666c28"
      },
      "source": [
        "print(d['twitter_participate_often'].mean())\n",
        "print(d['twitter_participate_often'].std())"
      ],
      "execution_count": null,
      "outputs": [
        {
          "output_type": "stream",
          "text": [
            "3.4134885588117223\n",
            "2.4024842216987956\n"
          ],
          "name": "stdout"
        }
      ]
    },
    {
      "cell_type": "code",
      "metadata": {
        "id": "0psKu8Ex3WHn",
        "colab_type": "code",
        "colab": {}
      },
      "source": [
        "#table-1-Generation"
      ],
      "execution_count": null,
      "outputs": []
    },
    {
      "cell_type": "code",
      "metadata": {
        "id": "sjDDdds-5dwO",
        "colab_type": "code",
        "colab": {
          "base_uri": "https://localhost:8080/",
          "height": 51
        },
        "outputId": "1b56fe05-86d1-4777-e03c-4c457a93596e"
      },
      "source": [
        "d['Tokens(long_text']=d['text_long'].apply(lambda x: len(x.split()))\n",
        "print(d['Tokens(long_text'].mean())\n",
        "print(d['Tokens(long_text'].std())"
      ],
      "execution_count": null,
      "outputs": [
        {
          "output_type": "stream",
          "text": [
            "118.3821758329988\n",
            "36.78495069772596\n"
          ],
          "name": "stdout"
        }
      ]
    },
    {
      "cell_type": "code",
      "metadata": {
        "id": "KWpT2U-Q5d9F",
        "colab_type": "code",
        "colab": {
          "base_uri": "https://localhost:8080/",
          "height": 51
        },
        "outputId": "a0a966cd-c995-451b-cc07-5c628cb6aac1"
      },
      "source": [
        "d['Tokens(short_text']=d['text_short'].apply(lambda x: len(x.split()))\n",
        "print(d['Tokens(short_text'].mean())\n",
        "print(d['Tokens(short_text'].std())"
      ],
      "execution_count": null,
      "outputs": [
        {
          "output_type": "stream",
          "text": [
            "24.99959855479727\n",
            "14.603748756755024\n"
          ],
          "name": "stdout"
        }
      ]
    },
    {
      "cell_type": "code",
      "metadata": {
        "id": "LE7huBx75eFX",
        "colab_type": "code",
        "colab": {
          "base_uri": "https://localhost:8080/",
          "height": 51
        },
        "outputId": "8793c1f7-50dd-4a09-edc3-28995a7292bb"
      },
      "source": [
        "d['Char(long_text']=d['text_long'].apply(lambda x: len(x))\n",
        "print(d['Char(long_text'].mean())\n",
        "print(d['Char(long_text'].std())"
      ],
      "execution_count": null,
      "outputs": [
        {
          "output_type": "stream",
          "text": [
            "632.6186270574067\n",
            "197.77957762007722\n"
          ],
          "name": "stdout"
        }
      ]
    },
    {
      "cell_type": "code",
      "metadata": {
        "id": "HBAJ-3t05ePa",
        "colab_type": "code",
        "colab": {
          "base_uri": "https://localhost:8080/",
          "height": 51
        },
        "outputId": "b668ed7b-cd60-4e12-a9a8-5786de274362"
      },
      "source": [
        "d['Char(short_text']=d['text_short'].apply(lambda x: len(x))\n",
        "print(d['Char(short_text'].mean())\n",
        "print(d['Char(short_text'].std())"
      ],
      "execution_count": null,
      "outputs": [
        {
          "output_type": "stream",
          "text": [
            "137.2424729024488\n",
            "78.4282793292123\n"
          ],
          "name": "stdout"
        }
      ]
    },
    {
      "cell_type": "code",
      "metadata": {
        "id": "9Rci7Dsm5eYD",
        "colab_type": "code",
        "colab": {}
      },
      "source": [
        "#doubts_regarding_types"
      ],
      "execution_count": null,
      "outputs": []
    },
    {
      "cell_type": "markdown",
      "metadata": {
        "id": "7zlvM_JI9EbZ",
        "colab_type": "text"
      },
      "source": [
        "### **Emotions**"
      ]
    },
    {
      "cell_type": "code",
      "metadata": {
        "id": "GV6fbLqv9D9L",
        "colab_type": "code",
        "colab": {
          "base_uri": "https://localhost:8080/",
          "height": 632
        },
        "outputId": "15434c58-669d-4b26-e9a9-c5acdfa5b21d"
      },
      "source": [
        "d.head()"
      ],
      "execution_count": null,
      "outputs": [
        {
          "output_type": "execute_result",
          "data": {
            "text/html": [
              "<div>\n",
              "<style scoped>\n",
              "    .dataframe tbody tr th:only-of-type {\n",
              "        vertical-align: middle;\n",
              "    }\n",
              "\n",
              "    .dataframe tbody tr th {\n",
              "        vertical-align: top;\n",
              "    }\n",
              "\n",
              "    .dataframe thead th {\n",
              "        text-align: right;\n",
              "    }\n",
              "</style>\n",
              "<table border=\"1\" class=\"dataframe\">\n",
              "  <thead>\n",
              "    <tr style=\"text-align: right;\">\n",
              "      <th></th>\n",
              "      <th>Unnamed: 0</th>\n",
              "      <th>V1</th>\n",
              "      <th>worry</th>\n",
              "      <th>chosen_emotion</th>\n",
              "      <th>anger</th>\n",
              "      <th>disgust</th>\n",
              "      <th>fear</th>\n",
              "      <th>anxiety</th>\n",
              "      <th>sadness</th>\n",
              "      <th>happiness</th>\n",
              "      <th>relaxation</th>\n",
              "      <th>desire</th>\n",
              "      <th>text_long</th>\n",
              "      <th>timing_textlong_firstclick</th>\n",
              "      <th>timing_textlong_lastclick</th>\n",
              "      <th>timing_textlong_submit</th>\n",
              "      <th>timing_textlong_nclicks</th>\n",
              "      <th>text_short</th>\n",
              "      <th>timing_textshort_firstclick</th>\n",
              "      <th>timing_textshort_lastclick</th>\n",
              "      <th>timing_textshort_submit</th>\n",
              "      <th>timing_textshort_nclicks</th>\n",
              "      <th>self_rating_general</th>\n",
              "      <th>self_rating_short</th>\n",
              "      <th>self_rating_long</th>\n",
              "      <th>twitter_general_often</th>\n",
              "      <th>twitter_tweet_often</th>\n",
              "      <th>twitter_participate_often</th>\n",
              "      <th>eng_native</th>\n",
              "      <th>ntok_long</th>\n",
              "      <th>nchar_long</th>\n",
              "      <th>ntok_short</th>\n",
              "      <th>nchar_short</th>\n",
              "      <th>cld_lang_long</th>\n",
              "      <th>cld_lang_short</th>\n",
              "      <th>id</th>\n",
              "      <th>n_punct</th>\n",
              "      <th>prop_punct</th>\n",
              "      <th>age</th>\n",
              "      <th>Country of Birth</th>\n",
              "      <th>Current Country of Residence</th>\n",
              "      <th>Employment Status</th>\n",
              "      <th>First Language</th>\n",
              "      <th>Nationality</th>\n",
              "      <th>Sex</th>\n",
              "      <th>Social-Media</th>\n",
              "      <th>Student Status</th>\n",
              "      <th>Tokens(long_text</th>\n",
              "      <th>Tokens(short_text</th>\n",
              "      <th>Char(long_text</th>\n",
              "      <th>Char(short_text</th>\n",
              "    </tr>\n",
              "  </thead>\n",
              "  <tbody>\n",
              "    <tr>\n",
              "      <th>0</th>\n",
              "      <td>1</td>\n",
              "      <td>1</td>\n",
              "      <td>3</td>\n",
              "      <td>Sadness</td>\n",
              "      <td>5</td>\n",
              "      <td>5</td>\n",
              "      <td>3</td>\n",
              "      <td>7</td>\n",
              "      <td>7</td>\n",
              "      <td>2</td>\n",
              "      <td>4</td>\n",
              "      <td>5</td>\n",
              "      <td>It is less an much an issue of how it affects ...</td>\n",
              "      <td>4.340</td>\n",
              "      <td>150.638</td>\n",
              "      <td>202.320</td>\n",
              "      <td>12</td>\n",
              "      <td>It is very easy! Stay inside so you are not sp...</td>\n",
              "      <td>5.510</td>\n",
              "      <td>5.510</td>\n",
              "      <td>61.123</td>\n",
              "      <td>1</td>\n",
              "      <td>7</td>\n",
              "      <td>7</td>\n",
              "      <td>7</td>\n",
              "      <td>7</td>\n",
              "      <td>1</td>\n",
              "      <td>1</td>\n",
              "      <td>Yes</td>\n",
              "      <td>110</td>\n",
              "      <td>592</td>\n",
              "      <td>40</td>\n",
              "      <td>183</td>\n",
              "      <td>en</td>\n",
              "      <td>en</td>\n",
              "      <td>1815</td>\n",
              "      <td>9</td>\n",
              "      <td>0.02</td>\n",
              "      <td>NaN</td>\n",
              "      <td>NaN</td>\n",
              "      <td>NaN</td>\n",
              "      <td>NaN</td>\n",
              "      <td>NaN</td>\n",
              "      <td>NaN</td>\n",
              "      <td>NaN</td>\n",
              "      <td>NaN</td>\n",
              "      <td>NaN</td>\n",
              "      <td>102</td>\n",
              "      <td>35</td>\n",
              "      <td>592</td>\n",
              "      <td>183</td>\n",
              "    </tr>\n",
              "    <tr>\n",
              "      <th>1</th>\n",
              "      <td>2</td>\n",
              "      <td>2</td>\n",
              "      <td>8</td>\n",
              "      <td>Anxiety</td>\n",
              "      <td>6</td>\n",
              "      <td>7</td>\n",
              "      <td>7</td>\n",
              "      <td>8</td>\n",
              "      <td>6</td>\n",
              "      <td>4</td>\n",
              "      <td>3</td>\n",
              "      <td>1</td>\n",
              "      <td>I am concerned that the true impact of the cur...</td>\n",
              "      <td>3.924</td>\n",
              "      <td>615.838</td>\n",
              "      <td>621.392</td>\n",
              "      <td>24</td>\n",
              "      <td>Things are difficult now, but we must all pull...</td>\n",
              "      <td>76.067</td>\n",
              "      <td>76.067</td>\n",
              "      <td>78.729</td>\n",
              "      <td>1</td>\n",
              "      <td>9</td>\n",
              "      <td>4</td>\n",
              "      <td>8</td>\n",
              "      <td>6</td>\n",
              "      <td>3</td>\n",
              "      <td>4</td>\n",
              "      <td>Yes</td>\n",
              "      <td>257</td>\n",
              "      <td>1424</td>\n",
              "      <td>43</td>\n",
              "      <td>221</td>\n",
              "      <td>en</td>\n",
              "      <td>en</td>\n",
              "      <td>401</td>\n",
              "      <td>16</td>\n",
              "      <td>0.01</td>\n",
              "      <td>NaN</td>\n",
              "      <td>NaN</td>\n",
              "      <td>NaN</td>\n",
              "      <td>NaN</td>\n",
              "      <td>NaN</td>\n",
              "      <td>NaN</td>\n",
              "      <td>NaN</td>\n",
              "      <td>NaN</td>\n",
              "      <td>NaN</td>\n",
              "      <td>243</td>\n",
              "      <td>40</td>\n",
              "      <td>1424</td>\n",
              "      <td>221</td>\n",
              "    </tr>\n",
              "    <tr>\n",
              "      <th>2</th>\n",
              "      <td>3</td>\n",
              "      <td>3</td>\n",
              "      <td>4</td>\n",
              "      <td>Relaxation</td>\n",
              "      <td>1</td>\n",
              "      <td>1</td>\n",
              "      <td>2</td>\n",
              "      <td>2</td>\n",
              "      <td>4</td>\n",
              "      <td>7</td>\n",
              "      <td>7</td>\n",
              "      <td>2</td>\n",
              "      <td>Personally, I am fairly calm about the corona ...</td>\n",
              "      <td>116.183</td>\n",
              "      <td>734.382</td>\n",
              "      <td>735.286</td>\n",
              "      <td>22</td>\n",
              "      <td>People should try and remain calm, as panic wi...</td>\n",
              "      <td>1345.874</td>\n",
              "      <td>1345.874</td>\n",
              "      <td>1398.381</td>\n",
              "      <td>1</td>\n",
              "      <td>7</td>\n",
              "      <td>6</td>\n",
              "      <td>8</td>\n",
              "      <td>9</td>\n",
              "      <td>2</td>\n",
              "      <td>4</td>\n",
              "      <td>No but I speak it fluently</td>\n",
              "      <td>132</td>\n",
              "      <td>631</td>\n",
              "      <td>15</td>\n",
              "      <td>78</td>\n",
              "      <td>en</td>\n",
              "      <td>en</td>\n",
              "      <td>25</td>\n",
              "      <td>10</td>\n",
              "      <td>0.02</td>\n",
              "      <td>NaN</td>\n",
              "      <td>NaN</td>\n",
              "      <td>NaN</td>\n",
              "      <td>NaN</td>\n",
              "      <td>NaN</td>\n",
              "      <td>NaN</td>\n",
              "      <td>NaN</td>\n",
              "      <td>NaN</td>\n",
              "      <td>NaN</td>\n",
              "      <td>122</td>\n",
              "      <td>14</td>\n",
              "      <td>631</td>\n",
              "      <td>78</td>\n",
              "    </tr>\n",
              "    <tr>\n",
              "      <th>3</th>\n",
              "      <td>4</td>\n",
              "      <td>4</td>\n",
              "      <td>6</td>\n",
              "      <td>Relaxation</td>\n",
              "      <td>4</td>\n",
              "      <td>2</td>\n",
              "      <td>3</td>\n",
              "      <td>4</td>\n",
              "      <td>1</td>\n",
              "      <td>6</td>\n",
              "      <td>7</td>\n",
              "      <td>3</td>\n",
              "      <td>In this very moment as I am fortunate to be ab...</td>\n",
              "      <td>1.016</td>\n",
              "      <td>137.120</td>\n",
              "      <td>171.076</td>\n",
              "      <td>18</td>\n",
              "      <td>Fortunate to feel calm and relaxed but worried...</td>\n",
              "      <td>3.865</td>\n",
              "      <td>42.945</td>\n",
              "      <td>46.675</td>\n",
              "      <td>4</td>\n",
              "      <td>8</td>\n",
              "      <td>6</td>\n",
              "      <td>9</td>\n",
              "      <td>8</td>\n",
              "      <td>6</td>\n",
              "      <td>3</td>\n",
              "      <td>Yes</td>\n",
              "      <td>132</td>\n",
              "      <td>713</td>\n",
              "      <td>22</td>\n",
              "      <td>141</td>\n",
              "      <td>en</td>\n",
              "      <td>en</td>\n",
              "      <td>1585</td>\n",
              "      <td>12</td>\n",
              "      <td>0.02</td>\n",
              "      <td>28.0</td>\n",
              "      <td>Belgium</td>\n",
              "      <td>United Kingdom</td>\n",
              "      <td>Full-Time</td>\n",
              "      <td>English</td>\n",
              "      <td>France</td>\n",
              "      <td>Female</td>\n",
              "      <td>Facebook, Youtube, Twitter, Linkedin</td>\n",
              "      <td>No</td>\n",
              "      <td>124</td>\n",
              "      <td>22</td>\n",
              "      <td>713</td>\n",
              "      <td>141</td>\n",
              "    </tr>\n",
              "    <tr>\n",
              "      <th>4</th>\n",
              "      <td>5</td>\n",
              "      <td>5</td>\n",
              "      <td>6</td>\n",
              "      <td>Anxiety</td>\n",
              "      <td>2</td>\n",
              "      <td>2</td>\n",
              "      <td>5</td>\n",
              "      <td>5</td>\n",
              "      <td>5</td>\n",
              "      <td>4</td>\n",
              "      <td>4</td>\n",
              "      <td>4</td>\n",
              "      <td>I am more worried about getting access to my n...</td>\n",
              "      <td>3.084</td>\n",
              "      <td>313.848</td>\n",
              "      <td>317.264</td>\n",
              "      <td>5</td>\n",
              "      <td>Not being able to cuddle my family sucks!</td>\n",
              "      <td>7.762</td>\n",
              "      <td>7.762</td>\n",
              "      <td>25.759</td>\n",
              "      <td>1</td>\n",
              "      <td>8</td>\n",
              "      <td>8</td>\n",
              "      <td>8</td>\n",
              "      <td>9</td>\n",
              "      <td>9</td>\n",
              "      <td>5</td>\n",
              "      <td>Yes</td>\n",
              "      <td>132</td>\n",
              "      <td>662</td>\n",
              "      <td>9</td>\n",
              "      <td>41</td>\n",
              "      <td>en</td>\n",
              "      <td>en</td>\n",
              "      <td>1207</td>\n",
              "      <td>13</td>\n",
              "      <td>0.02</td>\n",
              "      <td>57.0</td>\n",
              "      <td>United Kingdom</td>\n",
              "      <td>United Kingdom</td>\n",
              "      <td>Not in paid work (e.g. homemaker', 'retired or...</td>\n",
              "      <td>English</td>\n",
              "      <td>United Kingdom</td>\n",
              "      <td>Female</td>\n",
              "      <td>Youtube</td>\n",
              "      <td>No</td>\n",
              "      <td>120</td>\n",
              "      <td>8</td>\n",
              "      <td>662</td>\n",
              "      <td>41</td>\n",
              "    </tr>\n",
              "  </tbody>\n",
              "</table>\n",
              "</div>"
            ],
            "text/plain": [
              "   Unnamed: 0  V1  worry  ... Tokens(short_text  Char(long_text  Char(short_text\n",
              "0           1   1      3  ...                35             592              183\n",
              "1           2   2      8  ...                40            1424              221\n",
              "2           3   3      4  ...                14             631               78\n",
              "3           4   4      6  ...                22             713              141\n",
              "4           5   5      6  ...                 8             662               41\n",
              "\n",
              "[5 rows x 51 columns]"
            ]
          },
          "metadata": {
            "tags": []
          },
          "execution_count": 30
        }
      ]
    },
    {
      "cell_type": "code",
      "metadata": {
        "id": "7X0Y8g675eg7",
        "colab_type": "code",
        "colab": {
          "base_uri": "https://localhost:8080/",
          "height": 51
        },
        "outputId": "2a64f848-651b-48c3-a843-9dfda606c310"
      },
      "source": [
        "print(d['worry'].mean())\n",
        "print(d['worry'].std())"
      ],
      "execution_count": null,
      "outputs": [
        {
          "output_type": "stream",
          "text": [
            "6.553191489361702\n",
            "1.7630411530913785\n"
          ],
          "name": "stdout"
        }
      ]
    },
    {
      "cell_type": "code",
      "metadata": {
        "id": "EMvttYz49m7g",
        "colab_type": "code",
        "colab": {
          "base_uri": "https://localhost:8080/",
          "height": 51
        },
        "outputId": "641b6a45-b01c-422b-aba4-07c27daee275"
      },
      "source": [
        "print(d['anger'].mean())\n",
        "print(d['anger'].std())"
      ],
      "execution_count": null,
      "outputs": [
        {
          "output_type": "stream",
          "text": [
            "3.9080690485748697\n",
            "2.237499663424503\n"
          ],
          "name": "stdout"
        }
      ]
    },
    {
      "cell_type": "code",
      "metadata": {
        "id": "mA5afQYj9nI4",
        "colab_type": "code",
        "colab": {
          "base_uri": "https://localhost:8080/",
          "height": 51
        },
        "outputId": "c2a880ea-c967-4420-9863-7f36dfb000d2"
      },
      "source": [
        "print(d['anxiety'].mean())\n",
        "print(d['anxiety'].std())"
      ],
      "execution_count": null,
      "outputs": [
        {
          "output_type": "stream",
          "text": [
            "6.4865515857085505\n",
            "2.2770285962545946\n"
          ],
          "name": "stdout"
        }
      ]
    },
    {
      "cell_type": "code",
      "metadata": {
        "id": "FI6p5iaf9nSo",
        "colab_type": "code",
        "colab": {
          "base_uri": "https://localhost:8080/",
          "height": 51
        },
        "outputId": "653ccbd5-e05e-4dc1-b8a2-c8df7407ce04"
      },
      "source": [
        "print(d['desire'].mean())\n",
        "print(d['desire'].std())"
      ],
      "execution_count": null,
      "outputs": [
        {
          "output_type": "stream",
          "text": [
            "2.9739060618225612\n",
            "2.0379239666835813\n"
          ],
          "name": "stdout"
        }
      ]
    },
    {
      "cell_type": "code",
      "metadata": {
        "id": "1Ec84cJ29ndr",
        "colab_type": "code",
        "colab": {
          "base_uri": "https://localhost:8080/",
          "height": 663
        },
        "outputId": "5d06e2de-526f-46ee-a0cd-74338b12aa8e"
      },
      "source": [
        "print(d.mean())"
      ],
      "execution_count": null,
      "outputs": [
        {
          "output_type": "stream",
          "text": [
            "Unnamed: 0                     1246.000000\n",
            "V1                             1246.000000\n",
            "worry                             6.553191\n",
            "anger                             3.908069\n",
            "disgust                           3.226014\n",
            "fear                              5.670815\n",
            "anxiety                           6.486552\n",
            "sadness                           5.588117\n",
            "happiness                         3.623043\n",
            "relaxation                        3.951425\n",
            "desire                            2.973906\n",
            "timing_textlong_firstclick       13.026754\n",
            "timing_textlong_lastclick       279.659087\n",
            "timing_textlong_submit          318.252234\n",
            "timing_textlong_nclicks          15.641108\n",
            "timing_textshort_firstclick      10.062406\n",
            "timing_textshort_lastclick       60.939747\n",
            "timing_textshort_submit          89.349387\n",
            "timing_textshort_nclicks          4.509835\n",
            "self_rating_general               6.883982\n",
            "self_rating_short                 5.907266\n",
            "self_rating_long                  7.119229\n",
            "twitter_general_often             6.257326\n",
            "twitter_tweet_often               3.665596\n",
            "twitter_participate_often         3.413489\n",
            "ntok_long                       127.745082\n",
            "nchar_long                      632.537535\n",
            "ntok_short                       27.700120\n",
            "nchar_short                     137.211160\n",
            "id                             1249.949016\n",
            "n_punct                          11.763147\n",
            "prop_punct                        0.018434\n",
            "age                              33.838338\n",
            "Tokens(long_text                118.382176\n",
            "Tokens(short_text                24.999599\n",
            "Char(long_text                  632.618627\n",
            "Char(short_text                 137.242473\n",
            "dtype: float64\n"
          ],
          "name": "stdout"
        }
      ]
    },
    {
      "cell_type": "code",
      "metadata": {
        "id": "5_UWPvSi-Ugt",
        "colab_type": "code",
        "colab": {
          "base_uri": "https://localhost:8080/",
          "height": 663
        },
        "outputId": "d6539f8f-c19d-40eb-a029-13201b402de0"
      },
      "source": [
        "print(d.std())"
      ],
      "execution_count": null,
      "outputs": [
        {
          "output_type": "stream",
          "text": [
            "Unnamed: 0                     719.234083\n",
            "V1                             719.234083\n",
            "worry                            1.763041\n",
            "anger                            2.237500\n",
            "disgust                          2.134979\n",
            "fear                             2.274184\n",
            "anxiety                          2.277029\n",
            "sadness                          2.311609\n",
            "happiness                        1.886864\n",
            "relaxation                       2.127004\n",
            "desire                           2.037924\n",
            "timing_textlong_firstclick      65.355594\n",
            "timing_textlong_lastclick      231.088773\n",
            "timing_textlong_submit         226.437551\n",
            "timing_textlong_nclicks         14.627876\n",
            "timing_textshort_firstclick     36.707831\n",
            "timing_textshort_lastclick      83.355688\n",
            "timing_textshort_submit         83.100796\n",
            "timing_textshort_nclicks         5.792479\n",
            "self_rating_general              1.687120\n",
            "self_rating_short                2.123457\n",
            "self_rating_long                 1.783637\n",
            "twitter_general_often            2.804762\n",
            "twitter_tweet_often              2.520952\n",
            "twitter_participate_often        2.402484\n",
            "ntok_long                       39.667307\n",
            "nchar_long                     197.746052\n",
            "ntok_short                      15.978009\n",
            "nchar_short                     78.399791\n",
            "id                             722.063872\n",
            "n_punct                          7.173083\n",
            "prop_punct                       0.009929\n",
            "age                             22.040605\n",
            "Tokens(long_text                36.784951\n",
            "Tokens(short_text               14.603749\n",
            "Char(long_text                 197.779578\n",
            "Char(short_text                 78.428279\n",
            "dtype: float64\n"
          ],
          "name": "stdout"
        }
      ]
    },
    {
      "cell_type": "code",
      "metadata": {
        "id": "H-mZGRMl-WKe",
        "colab_type": "code",
        "colab": {
          "base_uri": "https://localhost:8080/",
          "height": 399
        },
        "outputId": "60fe1ad3-3853-420c-ec88-35f79c571659"
      },
      "source": [
        "d.groupby('chosen_emotion').count().apply(lambda x: (x/2491)*100)"
      ],
      "execution_count": null,
      "outputs": [
        {
          "output_type": "execute_result",
          "data": {
            "text/html": [
              "<div>\n",
              "<style scoped>\n",
              "    .dataframe tbody tr th:only-of-type {\n",
              "        vertical-align: middle;\n",
              "    }\n",
              "\n",
              "    .dataframe tbody tr th {\n",
              "        vertical-align: top;\n",
              "    }\n",
              "\n",
              "    .dataframe thead th {\n",
              "        text-align: right;\n",
              "    }\n",
              "</style>\n",
              "<table border=\"1\" class=\"dataframe\">\n",
              "  <thead>\n",
              "    <tr style=\"text-align: right;\">\n",
              "      <th></th>\n",
              "      <th>Unnamed: 0</th>\n",
              "      <th>V1</th>\n",
              "      <th>worry</th>\n",
              "      <th>anger</th>\n",
              "      <th>disgust</th>\n",
              "      <th>fear</th>\n",
              "      <th>anxiety</th>\n",
              "      <th>sadness</th>\n",
              "      <th>happiness</th>\n",
              "      <th>relaxation</th>\n",
              "      <th>desire</th>\n",
              "      <th>text_long</th>\n",
              "      <th>timing_textlong_firstclick</th>\n",
              "      <th>timing_textlong_lastclick</th>\n",
              "      <th>timing_textlong_submit</th>\n",
              "      <th>timing_textlong_nclicks</th>\n",
              "      <th>text_short</th>\n",
              "      <th>timing_textshort_firstclick</th>\n",
              "      <th>timing_textshort_lastclick</th>\n",
              "      <th>timing_textshort_submit</th>\n",
              "      <th>timing_textshort_nclicks</th>\n",
              "      <th>self_rating_general</th>\n",
              "      <th>self_rating_short</th>\n",
              "      <th>self_rating_long</th>\n",
              "      <th>twitter_general_often</th>\n",
              "      <th>twitter_tweet_often</th>\n",
              "      <th>twitter_participate_often</th>\n",
              "      <th>eng_native</th>\n",
              "      <th>ntok_long</th>\n",
              "      <th>nchar_long</th>\n",
              "      <th>ntok_short</th>\n",
              "      <th>nchar_short</th>\n",
              "      <th>cld_lang_long</th>\n",
              "      <th>cld_lang_short</th>\n",
              "      <th>id</th>\n",
              "      <th>n_punct</th>\n",
              "      <th>prop_punct</th>\n",
              "      <th>age</th>\n",
              "      <th>Country of Birth</th>\n",
              "      <th>Current Country of Residence</th>\n",
              "      <th>Employment Status</th>\n",
              "      <th>First Language</th>\n",
              "      <th>Nationality</th>\n",
              "      <th>Sex</th>\n",
              "      <th>Social-Media</th>\n",
              "      <th>Student Status</th>\n",
              "      <th>Tokens(long_text</th>\n",
              "      <th>Tokens(short_text</th>\n",
              "      <th>Char(long_text</th>\n",
              "      <th>Char(short_text</th>\n",
              "    </tr>\n",
              "    <tr>\n",
              "      <th>chosen_emotion</th>\n",
              "      <th></th>\n",
              "      <th></th>\n",
              "      <th></th>\n",
              "      <th></th>\n",
              "      <th></th>\n",
              "      <th></th>\n",
              "      <th></th>\n",
              "      <th></th>\n",
              "      <th></th>\n",
              "      <th></th>\n",
              "      <th></th>\n",
              "      <th></th>\n",
              "      <th></th>\n",
              "      <th></th>\n",
              "      <th></th>\n",
              "      <th></th>\n",
              "      <th></th>\n",
              "      <th></th>\n",
              "      <th></th>\n",
              "      <th></th>\n",
              "      <th></th>\n",
              "      <th></th>\n",
              "      <th></th>\n",
              "      <th></th>\n",
              "      <th></th>\n",
              "      <th></th>\n",
              "      <th></th>\n",
              "      <th></th>\n",
              "      <th></th>\n",
              "      <th></th>\n",
              "      <th></th>\n",
              "      <th></th>\n",
              "      <th></th>\n",
              "      <th></th>\n",
              "      <th></th>\n",
              "      <th></th>\n",
              "      <th></th>\n",
              "      <th></th>\n",
              "      <th></th>\n",
              "      <th></th>\n",
              "      <th></th>\n",
              "      <th></th>\n",
              "      <th></th>\n",
              "      <th></th>\n",
              "      <th></th>\n",
              "      <th></th>\n",
              "      <th></th>\n",
              "      <th></th>\n",
              "      <th></th>\n",
              "      <th></th>\n",
              "    </tr>\n",
              "  </thead>\n",
              "  <tbody>\n",
              "    <tr>\n",
              "      <th>Anger</th>\n",
              "      <td>4.295464</td>\n",
              "      <td>4.295464</td>\n",
              "      <td>4.295464</td>\n",
              "      <td>4.295464</td>\n",
              "      <td>4.295464</td>\n",
              "      <td>4.295464</td>\n",
              "      <td>4.295464</td>\n",
              "      <td>4.295464</td>\n",
              "      <td>4.295464</td>\n",
              "      <td>4.295464</td>\n",
              "      <td>4.295464</td>\n",
              "      <td>4.295464</td>\n",
              "      <td>4.295464</td>\n",
              "      <td>4.295464</td>\n",
              "      <td>4.295464</td>\n",
              "      <td>4.295464</td>\n",
              "      <td>4.295464</td>\n",
              "      <td>4.295464</td>\n",
              "      <td>4.295464</td>\n",
              "      <td>4.295464</td>\n",
              "      <td>4.295464</td>\n",
              "      <td>4.295464</td>\n",
              "      <td>4.295464</td>\n",
              "      <td>4.295464</td>\n",
              "      <td>4.295464</td>\n",
              "      <td>4.295464</td>\n",
              "      <td>4.295464</td>\n",
              "      <td>4.295464</td>\n",
              "      <td>4.295464</td>\n",
              "      <td>4.295464</td>\n",
              "      <td>4.295464</td>\n",
              "      <td>4.295464</td>\n",
              "      <td>4.295464</td>\n",
              "      <td>4.215175</td>\n",
              "      <td>4.295464</td>\n",
              "      <td>4.295464</td>\n",
              "      <td>4.295464</td>\n",
              "      <td>4.295464</td>\n",
              "      <td>4.295464</td>\n",
              "      <td>4.295464</td>\n",
              "      <td>4.295464</td>\n",
              "      <td>4.295464</td>\n",
              "      <td>4.295464</td>\n",
              "      <td>4.295464</td>\n",
              "      <td>4.295464</td>\n",
              "      <td>4.295464</td>\n",
              "      <td>4.295464</td>\n",
              "      <td>4.295464</td>\n",
              "      <td>4.295464</td>\n",
              "      <td>4.295464</td>\n",
              "    </tr>\n",
              "    <tr>\n",
              "      <th>Anxiety</th>\n",
              "      <td>55.439582</td>\n",
              "      <td>55.439582</td>\n",
              "      <td>55.439582</td>\n",
              "      <td>55.439582</td>\n",
              "      <td>55.439582</td>\n",
              "      <td>55.439582</td>\n",
              "      <td>55.439582</td>\n",
              "      <td>55.439582</td>\n",
              "      <td>55.439582</td>\n",
              "      <td>55.439582</td>\n",
              "      <td>55.439582</td>\n",
              "      <td>55.439582</td>\n",
              "      <td>55.439582</td>\n",
              "      <td>55.439582</td>\n",
              "      <td>55.439582</td>\n",
              "      <td>55.439582</td>\n",
              "      <td>55.439582</td>\n",
              "      <td>55.439582</td>\n",
              "      <td>55.439582</td>\n",
              "      <td>55.439582</td>\n",
              "      <td>55.439582</td>\n",
              "      <td>55.439582</td>\n",
              "      <td>55.439582</td>\n",
              "      <td>55.439582</td>\n",
              "      <td>55.439582</td>\n",
              "      <td>55.439582</td>\n",
              "      <td>55.439582</td>\n",
              "      <td>55.439582</td>\n",
              "      <td>55.439582</td>\n",
              "      <td>55.439582</td>\n",
              "      <td>55.439582</td>\n",
              "      <td>55.439582</td>\n",
              "      <td>55.439582</td>\n",
              "      <td>53.673224</td>\n",
              "      <td>55.439582</td>\n",
              "      <td>55.439582</td>\n",
              "      <td>55.439582</td>\n",
              "      <td>54.195102</td>\n",
              "      <td>54.395825</td>\n",
              "      <td>54.395825</td>\n",
              "      <td>54.395825</td>\n",
              "      <td>54.395825</td>\n",
              "      <td>54.395825</td>\n",
              "      <td>54.395825</td>\n",
              "      <td>54.395825</td>\n",
              "      <td>54.395825</td>\n",
              "      <td>55.439582</td>\n",
              "      <td>55.439582</td>\n",
              "      <td>55.439582</td>\n",
              "      <td>55.439582</td>\n",
              "    </tr>\n",
              "    <tr>\n",
              "      <th>Desire</th>\n",
              "      <td>1.083902</td>\n",
              "      <td>1.083902</td>\n",
              "      <td>1.083902</td>\n",
              "      <td>1.083902</td>\n",
              "      <td>1.083902</td>\n",
              "      <td>1.083902</td>\n",
              "      <td>1.083902</td>\n",
              "      <td>1.083902</td>\n",
              "      <td>1.083902</td>\n",
              "      <td>1.083902</td>\n",
              "      <td>1.083902</td>\n",
              "      <td>1.083902</td>\n",
              "      <td>1.083902</td>\n",
              "      <td>1.083902</td>\n",
              "      <td>1.083902</td>\n",
              "      <td>1.083902</td>\n",
              "      <td>1.083902</td>\n",
              "      <td>1.083902</td>\n",
              "      <td>1.083902</td>\n",
              "      <td>1.083902</td>\n",
              "      <td>1.083902</td>\n",
              "      <td>1.083902</td>\n",
              "      <td>1.083902</td>\n",
              "      <td>1.083902</td>\n",
              "      <td>1.083902</td>\n",
              "      <td>1.083902</td>\n",
              "      <td>1.083902</td>\n",
              "      <td>1.083902</td>\n",
              "      <td>1.083902</td>\n",
              "      <td>1.083902</td>\n",
              "      <td>1.083902</td>\n",
              "      <td>1.083902</td>\n",
              "      <td>1.083902</td>\n",
              "      <td>1.003613</td>\n",
              "      <td>1.083902</td>\n",
              "      <td>1.083902</td>\n",
              "      <td>1.083902</td>\n",
              "      <td>1.043758</td>\n",
              "      <td>1.043758</td>\n",
              "      <td>1.043758</td>\n",
              "      <td>1.043758</td>\n",
              "      <td>1.043758</td>\n",
              "      <td>1.043758</td>\n",
              "      <td>1.043758</td>\n",
              "      <td>1.043758</td>\n",
              "      <td>1.043758</td>\n",
              "      <td>1.083902</td>\n",
              "      <td>1.083902</td>\n",
              "      <td>1.083902</td>\n",
              "      <td>1.083902</td>\n",
              "    </tr>\n",
              "    <tr>\n",
              "      <th>Disgust</th>\n",
              "      <td>0.682457</td>\n",
              "      <td>0.682457</td>\n",
              "      <td>0.682457</td>\n",
              "      <td>0.682457</td>\n",
              "      <td>0.682457</td>\n",
              "      <td>0.682457</td>\n",
              "      <td>0.682457</td>\n",
              "      <td>0.682457</td>\n",
              "      <td>0.682457</td>\n",
              "      <td>0.682457</td>\n",
              "      <td>0.682457</td>\n",
              "      <td>0.682457</td>\n",
              "      <td>0.682457</td>\n",
              "      <td>0.682457</td>\n",
              "      <td>0.682457</td>\n",
              "      <td>0.682457</td>\n",
              "      <td>0.682457</td>\n",
              "      <td>0.682457</td>\n",
              "      <td>0.682457</td>\n",
              "      <td>0.682457</td>\n",
              "      <td>0.682457</td>\n",
              "      <td>0.682457</td>\n",
              "      <td>0.682457</td>\n",
              "      <td>0.682457</td>\n",
              "      <td>0.682457</td>\n",
              "      <td>0.682457</td>\n",
              "      <td>0.682457</td>\n",
              "      <td>0.682457</td>\n",
              "      <td>0.682457</td>\n",
              "      <td>0.682457</td>\n",
              "      <td>0.682457</td>\n",
              "      <td>0.682457</td>\n",
              "      <td>0.682457</td>\n",
              "      <td>0.682457</td>\n",
              "      <td>0.682457</td>\n",
              "      <td>0.682457</td>\n",
              "      <td>0.682457</td>\n",
              "      <td>0.682457</td>\n",
              "      <td>0.682457</td>\n",
              "      <td>0.682457</td>\n",
              "      <td>0.682457</td>\n",
              "      <td>0.682457</td>\n",
              "      <td>0.682457</td>\n",
              "      <td>0.682457</td>\n",
              "      <td>0.682457</td>\n",
              "      <td>0.682457</td>\n",
              "      <td>0.682457</td>\n",
              "      <td>0.682457</td>\n",
              "      <td>0.682457</td>\n",
              "      <td>0.682457</td>\n",
              "    </tr>\n",
              "    <tr>\n",
              "      <th>Fear</th>\n",
              "      <td>9.233240</td>\n",
              "      <td>9.233240</td>\n",
              "      <td>9.233240</td>\n",
              "      <td>9.233240</td>\n",
              "      <td>9.233240</td>\n",
              "      <td>9.233240</td>\n",
              "      <td>9.233240</td>\n",
              "      <td>9.233240</td>\n",
              "      <td>9.233240</td>\n",
              "      <td>9.233240</td>\n",
              "      <td>9.233240</td>\n",
              "      <td>9.233240</td>\n",
              "      <td>9.233240</td>\n",
              "      <td>9.233240</td>\n",
              "      <td>9.233240</td>\n",
              "      <td>9.233240</td>\n",
              "      <td>9.233240</td>\n",
              "      <td>9.233240</td>\n",
              "      <td>9.233240</td>\n",
              "      <td>9.233240</td>\n",
              "      <td>9.233240</td>\n",
              "      <td>9.233240</td>\n",
              "      <td>9.233240</td>\n",
              "      <td>9.233240</td>\n",
              "      <td>9.233240</td>\n",
              "      <td>9.233240</td>\n",
              "      <td>9.233240</td>\n",
              "      <td>9.233240</td>\n",
              "      <td>9.233240</td>\n",
              "      <td>9.233240</td>\n",
              "      <td>9.233240</td>\n",
              "      <td>9.233240</td>\n",
              "      <td>9.233240</td>\n",
              "      <td>8.751505</td>\n",
              "      <td>9.233240</td>\n",
              "      <td>9.233240</td>\n",
              "      <td>9.233240</td>\n",
              "      <td>8.791650</td>\n",
              "      <td>8.831794</td>\n",
              "      <td>8.831794</td>\n",
              "      <td>8.831794</td>\n",
              "      <td>8.791650</td>\n",
              "      <td>8.831794</td>\n",
              "      <td>8.831794</td>\n",
              "      <td>8.831794</td>\n",
              "      <td>8.791650</td>\n",
              "      <td>9.233240</td>\n",
              "      <td>9.233240</td>\n",
              "      <td>9.233240</td>\n",
              "      <td>9.233240</td>\n",
              "    </tr>\n",
              "    <tr>\n",
              "      <th>Happiness</th>\n",
              "      <td>1.565636</td>\n",
              "      <td>1.565636</td>\n",
              "      <td>1.565636</td>\n",
              "      <td>1.565636</td>\n",
              "      <td>1.565636</td>\n",
              "      <td>1.565636</td>\n",
              "      <td>1.565636</td>\n",
              "      <td>1.565636</td>\n",
              "      <td>1.565636</td>\n",
              "      <td>1.565636</td>\n",
              "      <td>1.565636</td>\n",
              "      <td>1.565636</td>\n",
              "      <td>1.565636</td>\n",
              "      <td>1.565636</td>\n",
              "      <td>1.565636</td>\n",
              "      <td>1.565636</td>\n",
              "      <td>1.565636</td>\n",
              "      <td>1.565636</td>\n",
              "      <td>1.565636</td>\n",
              "      <td>1.565636</td>\n",
              "      <td>1.565636</td>\n",
              "      <td>1.565636</td>\n",
              "      <td>1.565636</td>\n",
              "      <td>1.565636</td>\n",
              "      <td>1.565636</td>\n",
              "      <td>1.565636</td>\n",
              "      <td>1.565636</td>\n",
              "      <td>1.565636</td>\n",
              "      <td>1.565636</td>\n",
              "      <td>1.565636</td>\n",
              "      <td>1.565636</td>\n",
              "      <td>1.565636</td>\n",
              "      <td>1.565636</td>\n",
              "      <td>1.565636</td>\n",
              "      <td>1.565636</td>\n",
              "      <td>1.565636</td>\n",
              "      <td>1.565636</td>\n",
              "      <td>1.565636</td>\n",
              "      <td>1.565636</td>\n",
              "      <td>1.565636</td>\n",
              "      <td>1.565636</td>\n",
              "      <td>1.565636</td>\n",
              "      <td>1.565636</td>\n",
              "      <td>1.565636</td>\n",
              "      <td>1.565636</td>\n",
              "      <td>1.565636</td>\n",
              "      <td>1.565636</td>\n",
              "      <td>1.565636</td>\n",
              "      <td>1.565636</td>\n",
              "      <td>1.565636</td>\n",
              "    </tr>\n",
              "    <tr>\n",
              "      <th>Relaxation</th>\n",
              "      <td>13.368125</td>\n",
              "      <td>13.368125</td>\n",
              "      <td>13.368125</td>\n",
              "      <td>13.368125</td>\n",
              "      <td>13.368125</td>\n",
              "      <td>13.368125</td>\n",
              "      <td>13.368125</td>\n",
              "      <td>13.368125</td>\n",
              "      <td>13.368125</td>\n",
              "      <td>13.368125</td>\n",
              "      <td>13.368125</td>\n",
              "      <td>13.368125</td>\n",
              "      <td>13.368125</td>\n",
              "      <td>13.368125</td>\n",
              "      <td>13.368125</td>\n",
              "      <td>13.368125</td>\n",
              "      <td>13.368125</td>\n",
              "      <td>13.368125</td>\n",
              "      <td>13.368125</td>\n",
              "      <td>13.368125</td>\n",
              "      <td>13.368125</td>\n",
              "      <td>13.368125</td>\n",
              "      <td>13.368125</td>\n",
              "      <td>13.368125</td>\n",
              "      <td>13.368125</td>\n",
              "      <td>13.368125</td>\n",
              "      <td>13.368125</td>\n",
              "      <td>13.368125</td>\n",
              "      <td>13.368125</td>\n",
              "      <td>13.368125</td>\n",
              "      <td>13.368125</td>\n",
              "      <td>13.368125</td>\n",
              "      <td>13.368125</td>\n",
              "      <td>13.006825</td>\n",
              "      <td>13.368125</td>\n",
              "      <td>13.368125</td>\n",
              "      <td>13.368125</td>\n",
              "      <td>13.127258</td>\n",
              "      <td>13.167403</td>\n",
              "      <td>13.167403</td>\n",
              "      <td>13.167403</td>\n",
              "      <td>13.167403</td>\n",
              "      <td>13.167403</td>\n",
              "      <td>13.167403</td>\n",
              "      <td>13.167403</td>\n",
              "      <td>13.167403</td>\n",
              "      <td>13.368125</td>\n",
              "      <td>13.368125</td>\n",
              "      <td>13.368125</td>\n",
              "      <td>13.368125</td>\n",
              "    </tr>\n",
              "    <tr>\n",
              "      <th>Sadness</th>\n",
              "      <td>14.331594</td>\n",
              "      <td>14.331594</td>\n",
              "      <td>14.331594</td>\n",
              "      <td>14.331594</td>\n",
              "      <td>14.331594</td>\n",
              "      <td>14.331594</td>\n",
              "      <td>14.331594</td>\n",
              "      <td>14.331594</td>\n",
              "      <td>14.331594</td>\n",
              "      <td>14.331594</td>\n",
              "      <td>14.331594</td>\n",
              "      <td>14.331594</td>\n",
              "      <td>14.331594</td>\n",
              "      <td>14.331594</td>\n",
              "      <td>14.331594</td>\n",
              "      <td>14.331594</td>\n",
              "      <td>14.331594</td>\n",
              "      <td>14.331594</td>\n",
              "      <td>14.331594</td>\n",
              "      <td>14.331594</td>\n",
              "      <td>14.331594</td>\n",
              "      <td>14.331594</td>\n",
              "      <td>14.331594</td>\n",
              "      <td>14.331594</td>\n",
              "      <td>14.331594</td>\n",
              "      <td>14.331594</td>\n",
              "      <td>14.331594</td>\n",
              "      <td>14.331594</td>\n",
              "      <td>14.331594</td>\n",
              "      <td>14.331594</td>\n",
              "      <td>14.331594</td>\n",
              "      <td>14.331594</td>\n",
              "      <td>14.331594</td>\n",
              "      <td>13.207547</td>\n",
              "      <td>14.331594</td>\n",
              "      <td>14.331594</td>\n",
              "      <td>14.331594</td>\n",
              "      <td>13.890004</td>\n",
              "      <td>13.970293</td>\n",
              "      <td>13.970293</td>\n",
              "      <td>13.970293</td>\n",
              "      <td>13.970293</td>\n",
              "      <td>13.970293</td>\n",
              "      <td>13.970293</td>\n",
              "      <td>13.970293</td>\n",
              "      <td>13.970293</td>\n",
              "      <td>14.331594</td>\n",
              "      <td>14.331594</td>\n",
              "      <td>14.331594</td>\n",
              "      <td>14.331594</td>\n",
              "    </tr>\n",
              "  </tbody>\n",
              "</table>\n",
              "</div>"
            ],
            "text/plain": [
              "                Unnamed: 0         V1  ...  Char(long_text  Char(short_text\n",
              "chosen_emotion                         ...                                 \n",
              "Anger             4.295464   4.295464  ...        4.295464         4.295464\n",
              "Anxiety          55.439582  55.439582  ...       55.439582        55.439582\n",
              "Desire            1.083902   1.083902  ...        1.083902         1.083902\n",
              "Disgust           0.682457   0.682457  ...        0.682457         0.682457\n",
              "Fear              9.233240   9.233240  ...        9.233240         9.233240\n",
              "Happiness         1.565636   1.565636  ...        1.565636         1.565636\n",
              "Relaxation       13.368125  13.368125  ...       13.368125        13.368125\n",
              "Sadness          14.331594  14.331594  ...       14.331594        14.331594\n",
              "\n",
              "[8 rows x 50 columns]"
            ]
          },
          "metadata": {
            "tags": []
          },
          "execution_count": 37
        }
      ]
    },
    {
      "cell_type": "markdown",
      "metadata": {
        "id": "p3ZmS44ZARbq",
        "colab_type": "text"
      },
      "source": [
        "# **Findings and experiments**"
      ]
    },
    {
      "cell_type": "markdown",
      "metadata": {
        "id": "qcdrtbXM13at",
        "colab_type": "text"
      },
      "source": [
        "##  Correlations of emotions with LIWC categories"
      ]
    },
    {
      "cell_type": "code",
      "metadata": {
        "id": "o-BqIY8Q2Ca3",
        "colab_type": "code",
        "colab": {}
      },
      "source": [
        "liwc_url = 'https://raw.githubusercontent.com/dranzerblaze/covid19worry/master/files_clean/liwc/liwc_data_short_texts.csv'\n"
      ],
      "execution_count": null,
      "outputs": []
    },
    {
      "cell_type": "code",
      "metadata": {
        "id": "2lj_HzJc2vGv",
        "colab_type": "code",
        "colab": {}
      },
      "source": [
        ""
      ],
      "execution_count": null,
      "outputs": []
    },
    {
      "cell_type": "code",
      "metadata": {
        "id": "8DDApxSh2uyQ",
        "colab_type": "code",
        "colab": {}
      },
      "source": [
        ""
      ],
      "execution_count": null,
      "outputs": []
    },
    {
      "cell_type": "code",
      "metadata": {
        "id": "ObyUrQhG_TJO",
        "colab_type": "code",
        "colab": {}
      },
      "source": [
        "#1. Correlations of emotions with LIWC\n",
        "# categories\n",
        "\n",
        "# will be done by krishna"
      ],
      "execution_count": null,
      "outputs": []
    },
    {
      "cell_type": "markdown",
      "metadata": {
        "id": "qeNMocokKTky",
        "colab_type": "text"
      },
      "source": [
        "## Topic models of people’s worries"
      ]
    },
    {
      "cell_type": "code",
      "metadata": {
        "id": "dqjYYvrNKZEg",
        "colab_type": "code",
        "colab": {}
      },
      "source": [
        ""
      ],
      "execution_count": null,
      "outputs": []
    },
    {
      "cell_type": "markdown",
      "metadata": {
        "id": "DfeMF3yRSLIi",
        "colab_type": "text"
      },
      "source": [
        "## Predicting emotions about COVID-19"
      ]
    },
    {
      "cell_type": "code",
      "metadata": {
        "id": "RajW3V0RZ84h",
        "colab_type": "code",
        "colab": {}
      },
      "source": [
        " from sklearn.feature_extraction.text import TfidfVectorizer\n",
        " from sklearn.linear_model import RidgeCV\n",
        "from sklearn.metrics import mean_absolute_error\n",
        "from sklearn.decomposition import TruncatedSVD\n",
        "import numpy as np"
      ],
      "execution_count": null,
      "outputs": []
    },
    {
      "cell_type": "markdown",
      "metadata": {
        "id": "6b3ZAsQuqbo4",
        "colab_type": "text"
      },
      "source": [
        "# **TFIDF**"
      ]
    },
    {
      "cell_type": "markdown",
      "metadata": {
        "id": "bBZqmo2rnl00",
        "colab_type": "text"
      },
      "source": [
        "## ***Long Text***"
      ]
    },
    {
      "cell_type": "code",
      "metadata": {
        "id": "8RGyZb9pbbrw",
        "colab_type": "code",
        "colab": {}
      },
      "source": [
        "corpus = list(d['text_long'])\n",
        "vectorizer = TfidfVectorizer(max_features=1000)\n",
        "X = vectorizer.fit_transform(corpus)"
      ],
      "execution_count": null,
      "outputs": []
    },
    {
      "cell_type": "code",
      "metadata": {
        "id": "1uMdL4WwbbUU",
        "colab_type": "code",
        "colab": {
          "base_uri": "https://localhost:8080/",
          "height": 102
        },
        "outputId": "3554f455-a622-49cf-8905-97e98286add2"
      },
      "source": [
        "#for anxiety\n",
        "print(\"Anxiety\")\n",
        "\n",
        "y=np.array(d['anxiety'])\n",
        "pca = TruncatedSVD(n_components=18)\n",
        "X1=pca.fit_transform(X)\n",
        "clf = RidgeCV(alphas=[4.2, 4.4, 4.5, 5],cv=5).fit(X1, y)\n",
        "print(\"MAE: \")\n",
        "print(mean_absolute_error(y,clf.predict(X1)))\n",
        "print(\"R2: \")\n",
        "print(clf.score(X1,y))"
      ],
      "execution_count": null,
      "outputs": [
        {
          "output_type": "stream",
          "text": [
            "Anxiety\n",
            "MAE: \n",
            "1.6660795887181472\n",
            "R2: \n",
            "0.16397832186536512\n"
          ],
          "name": "stdout"
        }
      ]
    },
    {
      "cell_type": "code",
      "metadata": {
        "id": "Ks3Li1-cl0-o",
        "colab_type": "code",
        "colab": {
          "base_uri": "https://localhost:8080/",
          "height": 102
        },
        "outputId": "aafae94a-102e-472a-fb43-af9e4794c243"
      },
      "source": [
        "#for fear\n",
        "print(\"Fear\")\n",
        "from sklearn.linear_model import RidgeCV\n",
        "from sklearn.metrics import mean_absolute_error\n",
        "y=np.array(d['fear'])\n",
        "\n",
        "pca = TruncatedSVD(n_components=18)\n",
        "X1=pca.fit_transform(X)\n",
        "clf = RidgeCV(alphas=[4.2, 4.4, 4.5, 5],cv=5).fit(X1, y)\n",
        "print(\"MAE: \")\n",
        "print(mean_absolute_error(y,clf.predict(X1)))\n",
        "print(\"R2: \")\n",
        "print(clf.score(X1,y))"
      ],
      "execution_count": null,
      "outputs": [
        {
          "output_type": "stream",
          "text": [
            "Fear\n",
            "MAE: \n",
            "1.6885087898446558\n",
            "R2: \n",
            "0.18035121716689073\n"
          ],
          "name": "stdout"
        }
      ]
    },
    {
      "cell_type": "code",
      "metadata": {
        "id": "gv7pcO0wnES3",
        "colab_type": "code",
        "colab": {
          "base_uri": "https://localhost:8080/",
          "height": 102
        },
        "outputId": "fe045b78-cd92-450b-aaaa-487694174f50"
      },
      "source": [
        "#for sadness\n",
        "print(\"Sadness\")\n",
        "from sklearn.linear_model import RidgeCV\n",
        "from sklearn.metrics import mean_absolute_error\n",
        "y=np.array(d['sadness'])\n",
        "from sklearn.decomposition import TruncatedSVD\n",
        "pca = TruncatedSVD(n_components=18)\n",
        "X1=pca.fit_transform(X)\n",
        "clf = RidgeCV(alphas=[4.2, 4.4, 4.5, 5],cv=5).fit(X1, y)\n",
        "print(\"MAE: \")\n",
        "print(mean_absolute_error(y,clf.predict(X1)))\n",
        "print(\"R2: \")\n",
        "print(clf.score(X1,y))"
      ],
      "execution_count": null,
      "outputs": [
        {
          "output_type": "stream",
          "text": [
            "Sadness\n",
            "MAE: \n",
            "1.7521534958607707\n",
            "R2: \n",
            "0.14818152378087102\n"
          ],
          "name": "stdout"
        }
      ]
    },
    {
      "cell_type": "code",
      "metadata": {
        "id": "R_uBMzvmnEnV",
        "colab_type": "code",
        "colab": {
          "base_uri": "https://localhost:8080/",
          "height": 102
        },
        "outputId": "95973d49-7e7f-4794-def1-8bdb048566bf"
      },
      "source": [
        "#for worry\n",
        "print('worry')\n",
        "from sklearn.linear_model import RidgeCV\n",
        "from sklearn.metrics import mean_absolute_error\n",
        "y=np.array(d['anxiety'])\n",
        "from sklearn.decomposition import TruncatedSVD\n",
        "pca = TruncatedSVD(n_components=18)\n",
        "X1=pca.fit_transform(X)\n",
        "clf = RidgeCV(alphas=[4.2, 4.4, 4.5, 5],cv=5).fit(X1, y)\n",
        "print(\"MAE: \")\n",
        "print(mean_absolute_error(y,clf.predict(X1)))\n",
        "print(\"R2: \")\n",
        "print(clf.score(X1,y))"
      ],
      "execution_count": null,
      "outputs": [
        {
          "output_type": "stream",
          "text": [
            "worry\n",
            "MAE: \n",
            "1.6639857662859798\n",
            "R2: \n",
            "0.1655539073144533\n"
          ],
          "name": "stdout"
        }
      ]
    },
    {
      "cell_type": "markdown",
      "metadata": {
        "id": "c-WvIVdynyZd",
        "colab_type": "text"
      },
      "source": [
        "### ***Short Text***"
      ]
    },
    {
      "cell_type": "code",
      "metadata": {
        "id": "cAusZagnnx_i",
        "colab_type": "code",
        "colab": {}
      },
      "source": [
        "corpus = list(d['text_short'])\n",
        "vectorizer = TfidfVectorizer(max_features=1000)\n",
        "X = vectorizer.fit_transform(corpus)"
      ],
      "execution_count": null,
      "outputs": []
    },
    {
      "cell_type": "code",
      "metadata": {
        "id": "mjEAaog5nEyf",
        "colab_type": "code",
        "colab": {
          "base_uri": "https://localhost:8080/"
        },
        "outputId": "4835ea61-beb0-4bef-d0ad-319da5fcf680"
      },
      "source": [
        "#for anxiety\n",
        "print(\"Anxiety\")\n",
        "y=np.array(d['anxiety'])\n",
        "pca = TruncatedSVD(n_components=1)\n",
        "X1=pca.fit_transform(X)\n",
        "clf = RidgeCV(alphas=[.01, 3, 4, 10],cv=5).fit(X1, y)\n",
        "print(\"MAE: \")\n",
        "print(mean_absolute_error(y,clf.predict(X1)))\n",
        "print(\"R2: \")\n",
        "print(clf.score(X1,y))"
      ],
      "execution_count": null,
      "outputs": [
        {
          "output_type": "stream",
          "text": [
            "Anxiety\n",
            "MAE: \n",
            "1.85407298922726\n",
            "R2: \n",
            "0.000657661606064619\n"
          ],
          "name": "stdout"
        }
      ]
    },
    {
      "cell_type": "code",
      "metadata": {
        "id": "QEnFnYu9nEgS",
        "colab_type": "code",
        "colab": {
          "base_uri": "https://localhost:8080/"
        },
        "outputId": "b3565f4e-6d4d-4403-9aca-1b6b83339921"
      },
      "source": [
        "#for fear\n",
        "print(\"Fear\")\n",
        "y=np.array(d['fear'])\n",
        "pca = TruncatedSVD(n_components=1)\n",
        "X1=pca.fit_transform(X)\n",
        "clf = RidgeCV(alphas=[.01, 3, 4, 10],cv=5).fit(X1, y)\n",
        "print(\"MAE: \")\n",
        "print(mean_absolute_error(y,clf.predict(X1)))\n",
        "print(\"R2: \")\n",
        "print(clf.score(X1,y))"
      ],
      "execution_count": null,
      "outputs": [
        {
          "output_type": "stream",
          "text": [
            "Fear\n",
            "MAE: \n",
            "1.8787881348605682\n",
            "R2: \n",
            "0.00223858258101417\n"
          ],
          "name": "stdout"
        }
      ]
    },
    {
      "cell_type": "code",
      "metadata": {
        "id": "ewa8CqZCnEaU",
        "colab_type": "code",
        "colab": {
          "base_uri": "https://localhost:8080/"
        },
        "outputId": "b2059286-57c8-4385-990d-2f2830869f71"
      },
      "source": [
        "#for sadness\n",
        "print(\"Sadness\")\n",
        "y=np.array(d['sadness'])\n",
        "pca = TruncatedSVD(n_components=1)\n",
        "X1=pca.fit_transform(X)\n",
        "clf = RidgeCV(alphas=[.01, 3, 4, 10],cv=5).fit(X1, y)\n",
        "print(\"MAE: \")\n",
        "print(mean_absolute_error(y,clf.predict(X1)))\n",
        "print(\"R2: \")\n",
        "print(clf.score(X1,y))"
      ],
      "execution_count": null,
      "outputs": [
        {
          "output_type": "stream",
          "text": [
            "Sadness\n",
            "MAE: \n",
            "1.915285436518142\n",
            "R2: \n",
            "0.0010151127469879562\n"
          ],
          "name": "stdout"
        }
      ]
    },
    {
      "cell_type": "code",
      "metadata": {
        "id": "bn0rk-8Lpd_J",
        "colab_type": "code",
        "colab": {
          "base_uri": "https://localhost:8080/"
        },
        "outputId": "ee5a24ae-7f1b-4f99-94a6-39e02800b875"
      },
      "source": [
        "#for worry\n",
        "print(\"Worry\")\n",
        "y=np.array(d['worry'])\n",
        "pca = TruncatedSVD(n_components=1)\n",
        "X1=pca.fit_transform(X)\n",
        "clf = RidgeCV(alphas=[.01, 3, 4, 10],cv=5).fit(X1, y)\n",
        "print(\"MAE: \")\n",
        "print(mean_absolute_error(y,clf.predict(X1)))\n",
        "print(\"R2: \")\n",
        "print(clf.score(X1,y))"
      ],
      "execution_count": null,
      "outputs": [
        {
          "output_type": "stream",
          "text": [
            "Worry\n",
            "MAE: \n",
            "1.3839593892876487\n",
            "R2: \n",
            "0.0015411513932589438\n"
          ],
          "name": "stdout"
        }
      ]
    },
    {
      "cell_type": "markdown",
      "metadata": {
        "id": "auWJx2B7qFtT",
        "colab_type": "text"
      },
      "source": [
        "# **POS Tagging**"
      ]
    },
    {
      "cell_type": "code",
      "metadata": {
        "id": "Qtjp9Vmby4N_",
        "colab_type": "code",
        "colab": {}
      },
      "source": [
        " from sklearn.decomposition import PCA"
      ],
      "execution_count": null,
      "outputs": []
    },
    {
      "cell_type": "markdown",
      "metadata": {
        "id": "5t3qbcUx2IUj",
        "colab_type": "text"
      },
      "source": [
        "### Long Text"
      ]
    },
    {
      "cell_type": "code",
      "metadata": {
        "id": "kNSjF1OeuLE9",
        "colab_type": "code",
        "colab": {}
      },
      "source": [
        "X=pd.DataFrame(d['text_long'])"
      ],
      "execution_count": null,
      "outputs": []
    },
    {
      "cell_type": "code",
      "metadata": {
        "id": "CbB2BtnPpv8g",
        "colab_type": "code",
        "colab": {}
      },
      "source": [
        "nlp = spacy.load('en_core_web_sm')"
      ],
      "execution_count": null,
      "outputs": []
    },
    {
      "cell_type": "code",
      "metadata": {
        "id": "dQQOXWCQqmFT",
        "colab_type": "code",
        "colab": {}
      },
      "source": [
        "docs = list(nlp.pipe(d['text_long']))"
      ],
      "execution_count": null,
      "outputs": []
    },
    {
      "cell_type": "code",
      "metadata": {
        "id": "WNe7qECQqmd8",
        "colab_type": "code",
        "colab": {}
      },
      "source": [
        "t=[]\n",
        "for text in docs:\n",
        "  for token in text:\n",
        "   t.append(token.tag_) \n",
        "\n",
        "t=list(set(t))"
      ],
      "execution_count": null,
      "outputs": []
    },
    {
      "cell_type": "code",
      "metadata": {
        "id": "wotp0OFKqmUX",
        "colab_type": "code",
        "colab": {}
      },
      "source": [
        "for tag in t:\n",
        "  X[tag]=0"
      ],
      "execution_count": null,
      "outputs": []
    },
    {
      "cell_type": "code",
      "metadata": {
        "id": "9ZJDAp2Eql6Y",
        "colab_type": "code",
        "colab": {
          "base_uri": "https://localhost:8080/",
          "height": 122
        },
        "outputId": "f2c0e7db-1b62-4255-e8f3-69992b36657c"
      },
      "source": [
        "for i in range(len(docs)):\n",
        "  for token in docs[i]:\n",
        "    X[token.tag_].iloc[i]=X[token.tag_].iloc[i]+1"
      ],
      "execution_count": null,
      "outputs": [
        {
          "output_type": "stream",
          "text": [
            "/usr/local/lib/python3.6/dist-packages/pandas/core/indexing.py:671: SettingWithCopyWarning: \n",
            "A value is trying to be set on a copy of a slice from a DataFrame\n",
            "\n",
            "See the caveats in the documentation: https://pandas.pydata.org/pandas-docs/stable/user_guide/indexing.html#returning-a-view-versus-a-copy\n",
            "  self._setitem_with_indexer(indexer, value)\n"
          ],
          "name": "stderr"
        }
      ]
    },
    {
      "cell_type": "code",
      "metadata": {
        "id": "24EuZWyXzFw8",
        "colab_type": "code",
        "colab": {}
      },
      "source": [
        "X1=X.to_numpy()"
      ],
      "execution_count": null,
      "outputs": []
    },
    {
      "cell_type": "code",
      "metadata": {
        "id": "0FcJYf8VzNFz",
        "colab_type": "code",
        "colab": {}
      },
      "source": [
        "X2=X1[:,1:]"
      ],
      "execution_count": null,
      "outputs": []
    },
    {
      "cell_type": "code",
      "metadata": {
        "id": "v8TWJTvyyXbl",
        "colab_type": "code",
        "colab": {}
      },
      "source": [
        "pca=PCA(n_components=10)\n",
        "X3=pca.fit_transform(X2)"
      ],
      "execution_count": null,
      "outputs": []
    },
    {
      "cell_type": "code",
      "metadata": {
        "id": "LktvD1cB05mG",
        "colab_type": "code",
        "colab": {
          "base_uri": "https://localhost:8080/",
          "height": 102
        },
        "outputId": "58f12f17-db5b-40f0-e552-2733171b1ac8"
      },
      "source": [
        "print(\"Anxiety\")\n",
        "y=d['anxiety']\n",
        "clf = RidgeCV(alphas=[.01, 3, 4, 10],cv=5).fit(X3, y)\n",
        "print(\"MAE: \")\n",
        "print(mean_absolute_error(y,clf.predict(X3)))\n",
        "print(\"R2: \")\n",
        "print(clf.score(X3,y))"
      ],
      "execution_count": null,
      "outputs": [
        {
          "output_type": "stream",
          "text": [
            "Anxiety\n",
            "MAE: \n",
            "1.8089655262263844\n",
            "R2: \n",
            "0.028612812076818983\n"
          ],
          "name": "stdout"
        }
      ]
    },
    {
      "cell_type": "code",
      "metadata": {
        "id": "vFQx-9oy055E",
        "colab_type": "code",
        "colab": {
          "base_uri": "https://localhost:8080/",
          "height": 102
        },
        "outputId": "f5d463e0-01b3-47da-db44-26b7f034f085"
      },
      "source": [
        "print(\"Fear\")\n",
        "y=d['fear']\n",
        "clf = RidgeCV(alphas=[.01, 3, 4, 10],cv=5).fit(X3, y)\n",
        "print(\"MAE: \")\n",
        "print(mean_absolute_error(y,clf.predict(X3)))\n",
        "print(\"R2: \")\n",
        "print(clf.score(X3,y))"
      ],
      "execution_count": null,
      "outputs": [
        {
          "output_type": "stream",
          "text": [
            "Fear\n",
            "MAE: \n",
            "1.8450395487787963\n",
            "R2: \n",
            "0.031197737716203933\n"
          ],
          "name": "stdout"
        }
      ]
    },
    {
      "cell_type": "code",
      "metadata": {
        "id": "rX5OI27Y06Kh",
        "colab_type": "code",
        "colab": {
          "base_uri": "https://localhost:8080/",
          "height": 102
        },
        "outputId": "76faa112-e2d4-4c90-aba7-dc6d73707cae"
      },
      "source": [
        "print(\"Sadness\")\n",
        "y=d['sadness']\n",
        "clf = RidgeCV(alphas=[.01, 3, 4, 10],cv=5).fit(X3, y)\n",
        "print(\"MAE: \")\n",
        "print(mean_absolute_error(y,clf.predict(X3)))\n",
        "print(\"R2: \")\n",
        "print(clf.score(X3,y))"
      ],
      "execution_count": null,
      "outputs": [
        {
          "output_type": "stream",
          "text": [
            "Sadness\n",
            "MAE: \n",
            "1.8875682171314379\n",
            "R2: \n",
            "0.01681086320380576\n"
          ],
          "name": "stdout"
        }
      ]
    },
    {
      "cell_type": "code",
      "metadata": {
        "id": "vgaNX4wf1wV9",
        "colab_type": "code",
        "colab": {
          "base_uri": "https://localhost:8080/",
          "height": 102
        },
        "outputId": "0a022f04-6801-4b0c-d284-f0d2c06fbbaa"
      },
      "source": [
        "print(\"Worry\")\n",
        "y=d['worry']\n",
        "clf = RidgeCV(alphas=[.01, 3, 4, 10],cv=5).fit(X3, y)\n",
        "print(\"MAE: \")\n",
        "print(mean_absolute_error(y,clf.predict(X3)))\n",
        "print(\"R2: \")\n",
        "print(clf.score(X3,y))"
      ],
      "execution_count": null,
      "outputs": [
        {
          "output_type": "stream",
          "text": [
            "Worry\n",
            "MAE: \n",
            "1.349751672669989\n",
            "R2: \n",
            "0.0338789951816616\n"
          ],
          "name": "stdout"
        }
      ]
    },
    {
      "cell_type": "markdown",
      "metadata": {
        "id": "JdKIDu2v1-lu",
        "colab_type": "text"
      },
      "source": [
        "### Short Text"
      ]
    },
    {
      "cell_type": "code",
      "metadata": {
        "id": "Dah0Bf8T2Dz7",
        "colab_type": "code",
        "colab": {}
      },
      "source": [
        "X=pd.DataFrame(d['text_short'])"
      ],
      "execution_count": null,
      "outputs": []
    },
    {
      "cell_type": "code",
      "metadata": {
        "id": "1YY_LAGP2SdA",
        "colab_type": "code",
        "colab": {}
      },
      "source": [
        "docs = list(nlp.pipe(d['text_short']))"
      ],
      "execution_count": null,
      "outputs": []
    },
    {
      "cell_type": "code",
      "metadata": {
        "id": "mcQo5fmz2S_F",
        "colab_type": "code",
        "colab": {
          "base_uri": "https://localhost:8080/",
          "height": 122
        },
        "outputId": "c82ce409-cb5c-43ef-fa31-91ed105ae27e"
      },
      "source": [
        "t=[]\n",
        "for text in docs:\n",
        "  for token in text:\n",
        "   t.append(token.tag_) \n",
        "\n",
        "t=list(set(t))\n",
        "\n",
        "for tag in t:\n",
        "  X[tag]=0\n",
        "\n",
        "for i in range(len(docs)):\n",
        "  for token in docs[i]:\n",
        "    X[token.tag_].iloc[i]=X[token.tag_].iloc[i]+1\n",
        "\n",
        "X1=X.to_numpy()\n",
        "X2=X1[:,1:]"
      ],
      "execution_count": null,
      "outputs": [
        {
          "output_type": "stream",
          "text": [
            "/usr/local/lib/python3.6/dist-packages/pandas/core/indexing.py:671: SettingWithCopyWarning: \n",
            "A value is trying to be set on a copy of a slice from a DataFrame\n",
            "\n",
            "See the caveats in the documentation: https://pandas.pydata.org/pandas-docs/stable/user_guide/indexing.html#returning-a-view-versus-a-copy\n",
            "  self._setitem_with_indexer(indexer, value)\n"
          ],
          "name": "stderr"
        }
      ]
    },
    {
      "cell_type": "code",
      "metadata": {
        "id": "e0w68hIw2S0w",
        "colab_type": "code",
        "colab": {}
      },
      "source": [
        "pca=PCA(n_components=1)\n",
        "X3=pca.fit_transform(X2)"
      ],
      "execution_count": null,
      "outputs": []
    },
    {
      "cell_type": "code",
      "metadata": {
        "id": "L5GPwSt42Spg",
        "colab_type": "code",
        "colab": {
          "base_uri": "https://localhost:8080/",
          "height": 102
        },
        "outputId": "f9cd286a-c9fe-4003-953f-b243ea4fd527"
      },
      "source": [
        "print(\"Anxiety\")\n",
        "y=d['anxiety']\n",
        "clf = RidgeCV(alphas=[.01, 3, 4, 10],cv=5).fit(X3, y)\n",
        "print(\"MAE: \")\n",
        "print(mean_absolute_error(y,clf.predict(X3)))\n",
        "print(\"R2: \")\n",
        "print(clf.score(X3,y))"
      ],
      "execution_count": null,
      "outputs": [
        {
          "output_type": "stream",
          "text": [
            "Anxiety\n",
            "MAE: \n",
            "1.8546383379244002\n",
            "R2: \n",
            "0.0011090780448012039\n"
          ],
          "name": "stdout"
        }
      ]
    },
    {
      "cell_type": "code",
      "metadata": {
        "id": "IHFJcpkF2SlM",
        "colab_type": "code",
        "colab": {
          "base_uri": "https://localhost:8080/",
          "height": 102
        },
        "outputId": "d5130eb9-59a2-4ab0-9c52-672b66338d6a"
      },
      "source": [
        "print(\"Fear\")\n",
        "y=d['fear']\n",
        "clf = RidgeCV(alphas=[.01, 3, 4, 10],cv=5).fit(X3, y)\n",
        "print(\"MAE: \")\n",
        "print(mean_absolute_error(y,clf.predict(X3)))\n",
        "print(\"R2: \")\n",
        "print(clf.score(X3,y))"
      ],
      "execution_count": null,
      "outputs": [
        {
          "output_type": "stream",
          "text": [
            "Fear\n",
            "MAE: \n",
            "1.8833719195205605\n",
            "R2: \n",
            "0.0003425243882654305\n"
          ],
          "name": "stdout"
        }
      ]
    },
    {
      "cell_type": "code",
      "metadata": {
        "id": "mLwoJ0Nm3CD1",
        "colab_type": "code",
        "colab": {
          "base_uri": "https://localhost:8080/",
          "height": 102
        },
        "outputId": "2fbf501f-1a7e-4048-f1d4-05191303fa09"
      },
      "source": [
        "print(\"Sadness\")\n",
        "y=d['sadness']\n",
        "clf = RidgeCV(alphas=[.01, 3, 4, 10],cv=5).fit(X3, y)\n",
        "print(\"MAE: \")\n",
        "print(mean_absolute_error(y,clf.predict(X3)))\n",
        "print(\"R2: \")\n",
        "print(clf.score(X3,y))"
      ],
      "execution_count": null,
      "outputs": [
        {
          "output_type": "stream",
          "text": [
            "Sadness\n",
            "MAE: \n",
            "1.9182666834411213\n",
            "R2: \n",
            "1.975705590706589e-05\n"
          ],
          "name": "stdout"
        }
      ]
    },
    {
      "cell_type": "code",
      "metadata": {
        "id": "0VfaoLre3JN1",
        "colab_type": "code",
        "colab": {
          "base_uri": "https://localhost:8080/",
          "height": 102
        },
        "outputId": "bcf84086-aab0-4cb0-a27a-89f5c8d94685"
      },
      "source": [
        "print(\"Worry\")\n",
        "y=d['worry']\n",
        "clf = RidgeCV(alphas=[.01, 3, 4, 10],cv=5).fit(X3, y)\n",
        "print(\"MAE: \")\n",
        "print(mean_absolute_error(y,clf.predict(X3)))\n",
        "print(\"R2: \")\n",
        "print(clf.score(X3,y))"
      ],
      "execution_count": null,
      "outputs": [
        {
          "output_type": "stream",
          "text": [
            "Worry\n",
            "MAE: \n",
            "1.386151585365302\n",
            "R2: \n",
            "0.00024735634393580064\n"
          ],
          "name": "stdout"
        }
      ]
    },
    {
      "cell_type": "code",
      "metadata": {
        "id": "kq3vEVzH3TI0",
        "colab_type": "code",
        "colab": {}
      },
      "source": [
        "#Table 4 Completed"
      ],
      "execution_count": null,
      "outputs": []
    },
    {
      "cell_type": "code",
      "metadata": {
        "id": "6ukvd3ck3XeL",
        "colab_type": "code",
        "colab": {}
      },
      "source": [
        ""
      ],
      "execution_count": null,
      "outputs": []
    }
  ]
}